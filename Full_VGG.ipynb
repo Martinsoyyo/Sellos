{
  "nbformat": 4,
  "nbformat_minor": 0,
  "metadata": {
    "colab": {
      "name": "Full VGG.ipynb",
      "provenance": [],
      "collapsed_sections": [],
      "include_colab_link": true
    },
    "kernelspec": {
      "name": "python3",
      "display_name": "Python 3"
    },
    "language_info": {
      "name": "python"
    },
    "accelerator": "GPU"
  },
  "cells": [
    {
      "cell_type": "markdown",
      "metadata": {
        "id": "view-in-github",
        "colab_type": "text"
      },
      "source": [
        "<a href=\"https://colab.research.google.com/github/Martinsoyyo/Sellos/blob/master/Full_VGG.ipynb\" target=\"_parent\"><img src=\"https://colab.research.google.com/assets/colab-badge.svg\" alt=\"Open In Colab\"/></a>"
      ]
    },
    {
      "cell_type": "markdown",
      "metadata": {
        "id": "wlhCeW6ehxEY"
      },
      "source": [
        "# Condiciones iniciales"
      ]
    },
    {
      "cell_type": "code",
      "metadata": {
        "id": "vUWM3GRa4AB5"
      },
      "source": [
        "address          = '/content/drive/MyDrive/Colada_40mm_python'\n",
        "image_size       = 128\n",
        "train_percentage = 0.75\n",
        "epochs           = 100\n",
        "batch_size       = 128\n",
        "use_gpu          = True\n",
        "\n",
        "import torch\n",
        "device = torch.device(\"cuda\" if use_gpu else \"cpu\")"
      ],
      "execution_count": null,
      "outputs": []
    },
    {
      "cell_type": "markdown",
      "metadata": {
        "id": "DtPw9wyjC_A7"
      },
      "source": [
        "#Dataset Builder"
      ]
    },
    {
      "cell_type": "markdown",
      "metadata": {
        "id": "T_o2Z0j29n97"
      },
      "source": [
        "## Funciones Auxiliares"
      ]
    },
    {
      "cell_type": "code",
      "metadata": {
        "id": "lo95IQy-37Ns"
      },
      "source": [
        "def GetDirectoryStructure(dirName):\n",
        "    listOfFile = os.listdir(dirName)\n",
        "    alldir = list()\n",
        "\n",
        "    for entry in listOfFile:\n",
        "        fullPath = os.path.join(dirName, entry)\n",
        "       \n",
        "        if os.path.isdir(fullPath):\n",
        "            alldir.append(fullPath)\n",
        "    return alldir"
      ],
      "execution_count": null,
      "outputs": []
    },
    {
      "cell_type": "code",
      "metadata": {
        "id": "JMwzgIY663bk"
      },
      "source": [
        "def GetFilesFromDirectory(dirName):\n",
        "    listOfFile = os.listdir(dirName)\n",
        "    allFiles = list()\n",
        "\n",
        "    for entry in listOfFile:\n",
        "        fullPath = os.path.join(dirName, entry)\n",
        "\n",
        "        if not os.path.isdir(fullPath):\n",
        "            allFiles.append(fullPath)\n",
        "                \n",
        "    return allFiles"
      ],
      "execution_count": null,
      "outputs": []
    },
    {
      "cell_type": "markdown",
      "metadata": {
        "id": "9RfF2Peo7Wl9"
      },
      "source": [
        "## Levanta todos los nombres de archivos de imagenes."
      ]
    },
    {
      "cell_type": "code",
      "metadata": {
        "colab": {
          "base_uri": "https://localhost:8080/"
        },
        "id": "64vO0Mzh9u6Y",
        "outputId": "b007db2e-4527-453a-f32f-1dc47a0c72f5"
      },
      "source": [
        "from google.colab import drive\n",
        "drive.mount('/content/drive')"
      ],
      "execution_count": null,
      "outputs": [
        {
          "output_type": "stream",
          "text": [
            "Mounted at /content/drive\n"
          ],
          "name": "stdout"
        }
      ]
    },
    {
      "cell_type": "code",
      "metadata": {
        "colab": {
          "base_uri": "https://localhost:8080/"
        },
        "id": "tN_AAeX24HKu",
        "outputId": "2878a4e3-25bf-4f31-e20a-cd2f2a4464f0"
      },
      "source": [
        "import os\n",
        "\n",
        "data_csv = []\n",
        "\n",
        "dirs = GetDirectoryStructure(address)\n",
        "_dir_count = 0\n",
        "for _dir in dirs:\n",
        "  files = GetFilesFromDirectory(_dir)\n",
        "  for _files in files:\n",
        "    fullPath = os.path.join(_dir, _files)\n",
        "    data_csv.append( [fullPath , _dir_count-1] );\n",
        "  _dir_count+= 1\n",
        "\n",
        "print(len(data_csv))"
      ],
      "execution_count": null,
      "outputs": [
        {
          "output_type": "stream",
          "text": [
            "9472\n"
          ],
          "name": "stdout"
        }
      ]
    },
    {
      "cell_type": "markdown",
      "metadata": {
        "id": "3mOeFKr3ziua"
      },
      "source": [
        "## Mezcla el database, antes de crear los tensores."
      ]
    },
    {
      "cell_type": "code",
      "metadata": {
        "id": "EB1FXIfczy1A"
      },
      "source": [
        "import random\n",
        "random.shuffle(data_csv)\n",
        "data_csv"
      ],
      "execution_count": null,
      "outputs": []
    },
    {
      "cell_type": "markdown",
      "metadata": {
        "id": "5P-Hy8jHzudd"
      },
      "source": [
        "## Crea Tensores [_images , _target ]"
      ]
    },
    {
      "cell_type": "code",
      "metadata": {
        "id": "Wh1diQDoB0oJ"
      },
      "source": [
        "import cv2\n",
        "import cv2\n",
        "import torch\n",
        "\n",
        "_images = []\n",
        "_target = []\n",
        "\n",
        "for img_address, target_value in data_csv:\n",
        "  print(\"Processing..\",img_address)\n",
        "  img = cv2.imread(img_address)\n",
        "  img = cv2.cvtColor(img, cv2.COLOR_BGR2GRAY)\n",
        "  _images.append(torch.from_numpy(img))\n",
        "  _target.append(target_value)\n"
      ],
      "execution_count": null,
      "outputs": []
    },
    {
      "cell_type": "markdown",
      "metadata": {
        "id": "WqCLkbfdz_Mf"
      },
      "source": [
        "## Redimensiona y graba a disco."
      ]
    },
    {
      "cell_type": "code",
      "metadata": {
        "id": "1q1Envf6GQts",
        "colab": {
          "base_uri": "https://localhost:8080/"
        },
        "outputId": "e958ab0c-b556-4826-ee93-34815897c053"
      },
      "source": [
        "_images = torch.stack(_images)\n",
        "_images.unsqueeze_(1)\n",
        "print(_images.size())\n",
        "torch.save(_images, address+'/'+ str(image_size) +'x'+ str(image_size) + '_IMAGES.tensor')\n",
        "\n",
        "_target = torch.Tensor(_target)\n",
        "print(_target.size())\n",
        "torch.save(_target, address+'/'+ str(image_size) +'x'+ str(image_size) + '_TARGET.tensor')\n"
      ],
      "execution_count": null,
      "outputs": [
        {
          "output_type": "stream",
          "text": [
            "torch.Size([9472, 1, 128, 128])\n",
            "torch.Size([9472])\n"
          ],
          "name": "stdout"
        }
      ]
    },
    {
      "cell_type": "markdown",
      "metadata": {
        "id": "6HCDJZ4v9Ms8"
      },
      "source": [
        "#Definicion de la Red"
      ]
    },
    {
      "cell_type": "code",
      "metadata": {
        "id": "AEug7DXDN_YS"
      },
      "source": [
        "import torch\n",
        "import copy\n",
        "import torch.nn as nn\n",
        "from collections import OrderedDict\n",
        "\n",
        "def VGG(Convolution_Layer, Lineal_Layer,Dropout,Out_Channels ):\n",
        "  modules = []\n",
        "\n",
        "  i = 0\n",
        "  channels = 1\n",
        "  num_of_maxpools = 0\n",
        "  for _params in Convolution_Layer:\n",
        "    if _params == 0:\n",
        "      modules.append(nn.AvgPool2d(2, 2))\n",
        "      num_of_maxpools +=1\n",
        "    else:\n",
        "      modules.append(nn.Conv2d(channels,_params,3,1,1))\n",
        "      modules.append(nn.BatchNorm2d(_params))\n",
        "      modules.append(nn.ReLU())\n",
        "      modules.append(nn.Dropout(DROP))\n",
        "      channels = _params\n",
        "\n",
        "  modules.append(nn.Flatten())\n",
        "\n",
        "\n",
        "  aux = int(image_size / pow(2, num_of_maxpools))\n",
        "  channels *= pow(aux,2)\n",
        "\n",
        "  for _params in Lineal_Layer:\n",
        "    modules.append( nn.Linear(channels,_params))\n",
        "    modules.append(nn.ReLU());\n",
        "    channels = _params\n",
        "\n",
        "  modules.append(nn.Linear(channels,Out_Channels))\n",
        "  modules.append(nn.LogSoftmax(1))\n",
        "\n",
        "  model = nn.Sequential(*modules)\n",
        "  return model"
      ],
      "execution_count": null,
      "outputs": []
    },
    {
      "cell_type": "code",
      "metadata": {
        "id": "2f9UiTc-9OQt"
      },
      "source": [
        "import torch\n",
        "import copy\n",
        "import torch.nn as nn\n",
        "from collections import OrderedDict\n",
        "\n",
        "\n",
        "# 128 VGG,B 1,D 0.001000,CL(64 0 16 16 0 16 16 0 16 16 0 16 16 0 ), LL(32 16 )0.994930%.pt\n",
        "# pesa 203kb\n",
        "# USO con imagenes de 128x128\n",
        "\n",
        "DROP = 0.01\n",
        "\n",
        "CV_BN_RELU0 = nn.Sequential(OrderedDict([\n",
        "          ('0', nn.Conv2d(1,64,3,1,1,1,1,0)),\n",
        "          ('1', nn.BatchNorm2d(64)),\n",
        "          ('2', nn.ReLU()),\n",
        "          ('3', nn.Dropout(DROP))\n",
        "        ]))\n",
        "\n",
        "CV_BN_RELU1 = nn.Sequential(OrderedDict([\n",
        "          ('0', nn.Conv2d(64,16,3,1,1,1,1,0)),\n",
        "          ('1', nn.Dropout(DROP)),\n",
        "          ('2', nn.BatchNorm2d(16)),\n",
        "          ('3', nn.ReLU())\n",
        "        ]))\n",
        "\n",
        "CV_BN_RELU2 = nn.Sequential(OrderedDict([\n",
        "          ('0', nn.Conv2d(16,16,3,1,1,1,1,0)),\n",
        "          ('1', nn.Dropout(DROP)),\n",
        "          ('2', nn.BatchNorm2d(16)),\n",
        "          ('3', nn.ReLU())\n",
        "        ]))\n",
        "\n",
        "CV_BN_RELU3 = nn.Sequential(OrderedDict([\n",
        "          ('0', nn.Conv2d(16,16,3,1,1,1,1,0)),\n",
        "          ('1', nn.Dropout(DROP)),\n",
        "          ('2', nn.BatchNorm2d(16)),\n",
        "          ('3', nn.ReLU())\n",
        "        ]))\n",
        "\n",
        "CV_BN_RELU4 = nn.Sequential(OrderedDict([\n",
        "          ('0', nn.Conv2d(16,16,3,1,1,1,1,0)),\n",
        "          ('1', nn.Dropout(DROP)),\n",
        "          ('2', nn.BatchNorm2d(16)),\n",
        "          ('3', nn.ReLU())\n",
        "        ]))\n",
        "\n",
        "CV_BN_RELU5 = nn.Sequential(OrderedDict([\n",
        "          ('0', nn.Conv2d(16,16,3,1,1,1,1,0)),\n",
        "          ('1', nn.Dropout(DROP)),\n",
        "          ('2', nn.BatchNorm2d(16)),\n",
        "          ('3', nn.ReLU())\n",
        "        ]))\n",
        "\n",
        "CV_BN_RELU6 = nn.Sequential(OrderedDict([\n",
        "          ('0', nn.Conv2d(16,16,3,1,1,1,1,0)),\n",
        "          ('1', nn.Dropout(DROP)),\n",
        "          ('2', nn.BatchNorm2d(16)),\n",
        "          ('3', nn.ReLU())\n",
        "        ]))\n",
        "\n",
        "CV_BN_RELU7 = nn.Sequential(OrderedDict([\n",
        "          ('0', nn.Conv2d(16,16,3,1,1,1,1,0)),\n",
        "          ('1', nn.Dropout(DROP)),\n",
        "          ('2', nn.BatchNorm2d(16)),\n",
        "          ('3', nn.ReLU())\n",
        "        ]))\n",
        "\n",
        "CV_BN_RELU8 = nn.Sequential(OrderedDict([\n",
        "          ('0', nn.Conv2d(16,16,3,1,1,1,1,0)),\n",
        "          ('1', nn.Dropout(DROP)),\n",
        "          ('2', nn.BatchNorm2d(16)),\n",
        "          ('3', nn.ReLU())\n",
        "        ]))\n",
        "\n",
        "MAXPOOL0 = nn.AvgPool2d(2, 2)\n",
        "MAXPOOL1 = nn.AvgPool2d(2, 2)\n",
        "MAXPOOL2 = nn.AvgPool2d(2, 2)\n",
        "MAXPOOL3 = nn.AvgPool2d(2, 2)\n",
        "MAXPOOL4 = nn.AvgPool2d(2, 2)\n",
        "\n",
        "FEATURES = nn.Sequential()\n",
        "\n",
        "FEATURES.add_module('0', CV_BN_RELU0)\n",
        "FEATURES.add_module('1', MAXPOOL0)\n",
        "FEATURES.add_module('2', CV_BN_RELU1)\n",
        "FEATURES.add_module('3', CV_BN_RELU2)\n",
        "FEATURES.add_module('4', MAXPOOL1)\n",
        "FEATURES.add_module('5', CV_BN_RELU3)\n",
        "FEATURES.add_module('6', CV_BN_RELU4)\n",
        "FEATURES.add_module('7', MAXPOOL2)\n",
        "FEATURES.add_module('8', CV_BN_RELU5)\n",
        "FEATURES.add_module('9', CV_BN_RELU6)\n",
        "FEATURES.add_module('10',MAXPOOL3)\n",
        "FEATURES.add_module('11',CV_BN_RELU7)\n",
        "FEATURES.add_module('12',CV_BN_RELU8)\n",
        "FEATURES.add_module('13',MAXPOOL4)\n",
        "\n",
        "CLASSIFIER = nn.Sequential(OrderedDict([\n",
        "          ('0', nn.Flatten()),\n",
        "          ('1', nn.Linear(256,32)),\n",
        "          ('2', nn.ReLU()),\n",
        "          ('3', nn.Linear(32,16)),\n",
        "          ('4', nn.ReLU()),\n",
        "          ('5', nn.Linear(16,2)), # 2 = N_CLASES\n",
        "        ]))\n",
        "\n",
        "model =  nn.Sequential(OrderedDict([\n",
        "            ('FEATURES', FEATURES),\n",
        "            ('CLASSIFIER', CLASSIFIER),\n",
        "            ('SOFTMAX', nn.LogSoftmax(1))\n",
        "            ]))"
      ],
      "execution_count": null,
      "outputs": []
    },
    {
      "cell_type": "markdown",
      "metadata": {
        "id": "PSncRAoGxgfu"
      },
      "source": [
        "#Entrenamiento"
      ]
    },
    {
      "cell_type": "markdown",
      "metadata": {
        "id": "WJkGLuL-0GA3"
      },
      "source": [
        "\n",
        "## Carga tensores desde el Drive."
      ]
    },
    {
      "cell_type": "code",
      "metadata": {
        "id": "aLJV-sxKxBUR",
        "colab": {
          "base_uri": "https://localhost:8080/"
        },
        "outputId": "30251eb6-3f8c-401c-db7d-b0933ced24d7"
      },
      "source": [
        "img = torch.load(address+'/'+ str(image_size) +'x'+ str(image_size) + '_IMAGES.tensor')\n",
        "trg = torch.load(address+'/'+ str(image_size) +'x'+ str(image_size) + '_TARGET.tensor')\n",
        "\n",
        "print(img.size())\n",
        "print(trg.size())"
      ],
      "execution_count": null,
      "outputs": [
        {
          "output_type": "stream",
          "text": [
            "torch.Size([9472, 1, 128, 128])\n",
            "torch.Size([9472])\n"
          ],
          "name": "stdout"
        }
      ]
    },
    {
      "cell_type": "markdown",
      "metadata": {
        "id": "Z1s7E9Dx0N2K"
      },
      "source": [
        "## Separa tensores de Trainning y Testeo."
      ]
    },
    {
      "cell_type": "code",
      "metadata": {
        "colab": {
          "base_uri": "https://localhost:8080/"
        },
        "id": "_5m-BqFZ0Nal",
        "outputId": "ab10cdfd-5bd7-40b4-d926-b6f8dcab7c62"
      },
      "source": [
        "length = img.size()[0]\n",
        "\n",
        "img_train = img[0:int(length*train_percentage)].to(device)\n",
        "trg_train = trg[0:int(length*train_percentage)].to(device)\n",
        "\n",
        "img_test = img[int(length*train_percentage):].to(device)\n",
        "trg_test = trg[int(length*train_percentage):].to(device)\n",
        "\n",
        "print(img.size())\n",
        "print(\"Train\",img_train.size())\n",
        "print(\"Test\",img_test.size())"
      ],
      "execution_count": null,
      "outputs": [
        {
          "output_type": "stream",
          "text": [
            "torch.Size([9472, 1, 128, 128])\n",
            "Train torch.Size([7104, 1, 128, 128])\n",
            "Test torch.Size([2368, 1, 128, 128])\n"
          ],
          "name": "stdout"
        }
      ]
    },
    {
      "cell_type": "markdown",
      "metadata": {
        "id": "TQFQP3aMH1Fs"
      },
      "source": [
        "#Entrenamiento"
      ]
    },
    {
      "cell_type": "code",
      "metadata": {
        "id": "iNIZXsZR_5Pl"
      },
      "source": [
        "def Train(epoch):\n",
        "  model.train()\n",
        "\n",
        "  IMAGE  = img_train.split(batch_size);\n",
        "  TARGET = trg_train.split(batch_size);\n",
        "  N = int(img_train.size()[0]/batch_size)\n",
        "\n",
        "  for idx in range(N):\n",
        "    output = model.forward(IMAGE[idx].float().div_(255));\n",
        "    loss   = criterion(output, TARGET[idx].long())\n",
        "\n",
        "    optimizer.zero_grad();\n",
        "    loss.backward()\n",
        "    optimizer.step()\n",
        "\n",
        "    print(\"\\r Epoch:\",str(epoch), \"[\",idx * batch_size, \",\", img_train.size()[0],\" ] Loss:\",loss.item(), end=\" \") "
      ],
      "execution_count": null,
      "outputs": []
    },
    {
      "cell_type": "code",
      "metadata": {
        "id": "h0wptZOPNyK6"
      },
      "source": [
        "def Test(IMG, TRG):\n",
        "  model.eval()\n",
        "  \n",
        "  with torch.no_grad():\n",
        "    IMAGE  = IMG.split(batch_size);\n",
        "    TARGET = TRG.split(batch_size);\n",
        "    N = int(IMG.size()[0]/batch_size)\n",
        "\n",
        "    correct = 0\n",
        "    for idx in range(N):\n",
        "      output = model.forward(IMAGE[idx].float().div_(255));\n",
        "      predicted = output.data.max(1)[1].long()\n",
        "      correct += int( (predicted == TARGET[idx].long() ).sum().item())\n",
        "\n",
        "  return (float(correct) / IMG.size()[0]);"
      ],
      "execution_count": null,
      "outputs": []
    },
    {
      "cell_type": "code",
      "metadata": {
        "id": "r4N-9I839_YB"
      },
      "source": [
        "def initialize_weights(m):\n",
        "  if isinstance(m, nn.Conv2d):\n",
        "      nn.init.xavier_uniform_(m.weight)\n",
        "     # nn.init.kaiming_uniform_(m.weight.data,nonlinearity='relu')\n",
        "      if m.bias is not None:\n",
        "          nn.init.constant_(m.bias.data, 0)\n",
        "  elif isinstance(m, nn.BatchNorm2d):\n",
        "      nn.init.constant_(m.weight.data, 1)\n",
        "      nn.init.constant_(m.bias.data, 0)\n",
        "  elif isinstance(m, nn.Linear):\n",
        "      nn.init.kaiming_uniform_(m.weight.data)\n",
        "      nn.init.constant_(m.bias.data, 0)"
      ],
      "execution_count": null,
      "outputs": []
    },
    {
      "cell_type": "code",
      "metadata": {
        "id": "pjyCrXt5XfR0"
      },
      "source": [
        "def Get_Names(Convolution_Layer, Lineal_Layer,Dropout,Eff ):\n",
        "\n",
        "  name = \"\" \n",
        "  name += str(Eff) + \"% \"\n",
        "  name += \"Drop[\" + str(Dropout) + \"] \"\n",
        "\n",
        "  name += \"CL[\" \n",
        "  for _params in Convolution_Layer:\n",
        "    name += str(_params) + \" \"\n",
        "\n",
        "  name += \"]LL[\" \n",
        "  for _params in Lineal_Layer:\n",
        "    name += str(_params) + \" \"\n",
        "  name += \"]\" \n",
        "\n",
        "  return name"
      ],
      "execution_count": null,
      "outputs": []
    },
    {
      "cell_type": "code",
      "metadata": {
        "id": "SL9IN1uicDfR",
        "colab": {
          "base_uri": "https://localhost:8080/"
        },
        "outputId": "575e9304-6acf-4835-a02e-43e3d104534c"
      },
      "source": [
        "Epochs = 100  \n",
        "Out_Channels = 2\n",
        "Dropout = 0.001\n",
        "Convolution_Layer = [16 ,16 , 0, 16,16 , 0 , 16,16 , 0, 16,16  ,0, 16,16 , 0]\n",
        "Lineal_Layer = [64, 64]\n",
        "\n",
        "model = VGG(\n",
        "    Convolution_Layer,\n",
        "    Lineal_Layer,\n",
        "    Dropout,\n",
        "    Out_Channels\n",
        "    )\n",
        "\n",
        "model.to(device)\n",
        "model.apply(initialize_weights)\n",
        "\n",
        "#criterion = nn.CrossEntropyLoss()\n",
        "criterion = nn.NLLLoss()\n",
        "optimizer = torch.optim.Adam(model.parameters(), 0.001)\n",
        "#optimizer = torch.optim.SGD(model.parameters(), 0.01, 0.1);\n",
        "\n",
        "best_test_value = 0.0\n",
        "for idx in range(Epochs):\n",
        "  Train(idx)\n",
        "\n",
        "  test = Test(img_test,trg_test)\n",
        "  if( test > best_test_value):\n",
        "    best_test_value = test\n",
        "    torch.save(model.state_dict(), address + \"/best_model.pth\")\n",
        "    #torch.save(model, address + \"/best_model.pth\") \n",
        "  \n",
        "  print(\" Train set: Accuracy:\", Test(img_train,trg_train),\"% Test set: Accuracy:\", test,\"%\")\n",
        "\n",
        "print(\" best Accuracy: \",best_test_value)\n",
        "model = torch.load(address + \"/best_model.pth\")\n",
        "torch.save(model, address + \"/\" +  Get_Names(Convolution_Layer, Lineal_Layer,Dropout,best_test_value ) + \".pth\")"
      ],
      "execution_count": null,
      "outputs": [
        {
          "output_type": "stream",
          "text": [
            " Epoch: 0 [ 6912 , 7104  ] Loss: 0.11784642189741135  Train set: Accuracy: 0.5767173423423423 % Test set: Accuracy: 0.5722128378378378 %\n",
            " Epoch: 1 [ 6912 , 7104  ] Loss: 0.0781388208270073  Train set: Accuracy: 0.9280686936936937 % Test set: Accuracy: 0.9070945945945946 %\n",
            " Epoch: 2 [ 6912 , 7104  ] Loss: 0.06803452223539352  Train set: Accuracy: 0.9239864864864865 % Test set: Accuracy: 0.894847972972973 %\n",
            " Epoch: 3 [ 6912 , 7104  ] Loss: 0.06285716593265533  Train set: Accuracy: 0.9290540540540541 % Test set: Accuracy: 0.9054054054054054 %\n",
            " Epoch: 4 [ 6912 , 7104  ] Loss: 0.06243586167693138  Train set: Accuracy: 0.9339808558558559 % Test set: Accuracy: 0.9049831081081081 %\n",
            " Epoch: 5 [ 6912 , 7104  ] Loss: 0.06398919224739075  Train set: Accuracy: 0.5768581081081081 % Test set: Accuracy: 0.5722128378378378 %\n",
            " Epoch: 6 [ 6912 , 7104  ] Loss: 0.08026757836341858  Train set: Accuracy: 0.42539414414414417 % Test set: Accuracy: 0.41131756756756754 %\n",
            " Epoch: 7 [ 6912 , 7104  ] Loss: 0.05986631661653519  Train set: Accuracy: 0.5249155405405406 % Test set: Accuracy: 0.5168918918918919 %\n",
            " Epoch: 8 [ 6912 , 7104  ] Loss: 0.18054068088531494  Train set: Accuracy: 0.6949605855855856 % Test set: Accuracy: 0.6887668918918919 %\n",
            " Epoch: 9 [ 6912 , 7104  ] Loss: 0.04430598020553589  Train set: Accuracy: 0.8003941441441441 % Test set: Accuracy: 0.7791385135135135 %\n",
            " Epoch: 10 [ 6912 , 7104  ] Loss: 0.20193831622600555  Train set: Accuracy: 0.5377252252252253 % Test set: Accuracy: 0.5211148648648649 %\n",
            " Epoch: 11 [ 6912 , 7104  ] Loss: 0.07589747756719589  Train set: Accuracy: 0.8202421171171171 % Test set: Accuracy: 0.7972972972972973 %\n",
            " Epoch: 12 [ 6912 , 7104  ] Loss: 0.03905932232737541  Train set: Accuracy: 0.7333896396396397 % Test set: Accuracy: 0.7077702702702703 %\n",
            " Epoch: 13 [ 6912 , 7104  ] Loss: 0.0221589133143425  Train set: Accuracy: 0.9211711711711712 % Test set: Accuracy: 0.886402027027027 %\n",
            " Epoch: 14 [ 6912 , 7104  ] Loss: 0.02449469454586506  Train set: Accuracy: 0.9743806306306306 % Test set: Accuracy: 0.9467905405405406 %\n",
            " Epoch: 15 [ 6912 , 7104  ] Loss: 0.03503981605172157  Train set: Accuracy: 0.9718468468468469 % Test set: Accuracy: 0.9459459459459459 %\n",
            " Epoch: 16 [ 6912 , 7104  ] Loss: 0.007358951028436422  Train set: Accuracy: 0.8655686936936937 % Test set: Accuracy: 0.8353040540540541 %\n",
            " Epoch: 17 [ 6912 , 7104  ] Loss: 0.012673650868237019  Train set: Accuracy: 0.9764921171171171 % Test set: Accuracy: 0.9476351351351351 %\n",
            " Epoch: 18 [ 6912 , 7104  ] Loss: 0.003564054612070322  Train set: Accuracy: 0.9719876126126126 % Test set: Accuracy: 0.9459459459459459 %\n",
            " Epoch: 19 [ 6912 , 7104  ] Loss: 0.0037853275425732136  Train set: Accuracy: 0.9518581081081081 % Test set: Accuracy: 0.9252533783783784 %\n",
            " Epoch: 20 [ 6912 , 7104  ] Loss: 0.0026614894159138203  Train set: Accuracy: 0.602759009009009 % Test set: Accuracy: 0.5789695945945946 %\n",
            " Epoch: 21 [ 6912 , 7104  ] Loss: 0.0005955610540695488  Train set: Accuracy: 0.9850788288288288 % Test set: Accuracy: 0.9586148648648649 %\n",
            " Epoch: 22 [ 6912 , 7104  ] Loss: 0.0019514696905389428  Train set: Accuracy: 0.8595157657657657 % Test set: Accuracy: 0.8302364864864865 %\n",
            " Epoch: 23 [ 6912 , 7104  ] Loss: 0.005936529021710157  Train set: Accuracy: 0.9715653153153153 % Test set: Accuracy: 0.9438344594594594 %\n",
            " Epoch: 24 [ 6912 , 7104  ] Loss: 0.0010062995133921504  Train set: Accuracy: 0.9898648648648649 % Test set: Accuracy: 0.9649493243243243 %\n",
            " Epoch: 25 [ 6912 , 7104  ] Loss: 0.001417816150933504  Train set: Accuracy: 0.9890202702702703 % Test set: Accuracy: 0.957347972972973 %\n",
            " Epoch: 26 [ 6912 , 7104  ] Loss: 0.0031730991322547197  Train set: Accuracy: 0.9113175675675675 % Test set: Accuracy: 0.886402027027027 %\n",
            " Epoch: 27 [ 6912 , 7104  ] Loss: 0.031124984845519066  Train set: Accuracy: 0.9566441441441441 % Test set: Accuracy: 0.9315878378378378 %\n",
            " Epoch: 28 [ 6912 , 7104  ] Loss: 0.0026014100294560194  Train set: Accuracy: 0.9887387387387387 % Test set: Accuracy: 0.957347972972973 %\n",
            " Epoch: 29 [ 6912 , 7104  ] Loss: 0.0007976597407832742  Train set: Accuracy: 0.9812781531531531 % Test set: Accuracy: 0.9527027027027027 %\n",
            " Epoch: 30 [ 6912 , 7104  ] Loss: 0.018057221546769142  Train set: Accuracy: 0.8989301801801802 % Test set: Accuracy: 0.8669763513513513 %\n",
            " Epoch: 31 [ 6912 , 7104  ] Loss: 0.002983644837513566  Train set: Accuracy: 0.9222972972972973 % Test set: Accuracy: 0.8952702702702703 %\n",
            " Epoch: 32 [ 6912 , 7104  ] Loss: 0.0005155376275070012  Train set: Accuracy: 0.9805743243243243 % Test set: Accuracy: 0.9527027027027027 %\n",
            " Epoch: 33 [ 6912 , 7104  ] Loss: 0.0002617272548377514  Train set: Accuracy: 0.9649493243243243 % Test set: Accuracy: 0.9387668918918919 %\n",
            " Epoch: 34 [ 6912 , 7104  ] Loss: 0.04195817932486534  Train set: Accuracy: 0.9867680180180181 % Test set: Accuracy: 0.9598817567567568 %\n",
            " Epoch: 35 [ 6912 , 7104  ] Loss: 0.0004443658690433949  Train set: Accuracy: 0.9870495495495496 % Test set: Accuracy: 0.9594594594594594 %\n",
            " Epoch: 36 [ 6912 , 7104  ] Loss: 0.01495792344212532  Train set: Accuracy: 0.9232826576576577 % Test set: Accuracy: 0.8952702702702703 %\n",
            " Epoch: 37 [ 6912 , 7104  ] Loss: 0.0008266291115432978  Train set: Accuracy: 0.9894425675675675 % Test set: Accuracy: 0.9590371621621622 %\n",
            " Epoch: 38 [ 6912 , 7104  ] Loss: 0.00012677557242568582  Train set: Accuracy: 0.9856418918918919 % Test set: Accuracy: 0.9539695945945946 %\n",
            " Epoch: 39 [ 6912 , 7104  ] Loss: 0.013229494914412498  Train set: Accuracy: 0.5743243243243243 % Test set: Accuracy: 0.5565878378378378 %\n",
            " Epoch: 40 [ 6912 , 7104  ] Loss: 0.008152731694281101  Train set: Accuracy: 0.9838119369369369 % Test set: Accuracy: 0.9535472972972973 %\n",
            " Epoch: 41 [ 6912 , 7104  ] Loss: 0.032738517969846725  Train set: Accuracy: 0.9887387387387387 % Test set: Accuracy: 0.9628378378378378 %\n",
            " Epoch: 42 [ 6912 , 7104  ] Loss: 0.00020422895613592118  Train set: Accuracy: 0.990990990990991 % Test set: Accuracy: 0.9607263513513513 %\n",
            " Epoch: 43 [ 6912 , 7104  ] Loss: 9.599477925803512e-05  Train set: Accuracy: 0.9905686936936937 % Test set: Accuracy: 0.9594594594594594 %\n",
            " Epoch: 44 [ 6912 , 7104  ] Loss: 0.00012957783474121243  Train set: Accuracy: 0.989161036036036 % Test set: Accuracy: 0.9586148648648649 %\n",
            " Epoch: 45 [ 6912 , 7104  ] Loss: 0.08346205949783325  Train set: Accuracy: 0.852759009009009 % Test set: Accuracy: 0.8268581081081081 %\n",
            " Epoch: 46 [ 6912 , 7104  ] Loss: 0.0006073671393096447  Train set: Accuracy: 0.9883164414414415 % Test set: Accuracy: 0.9624155405405406 %\n",
            " Epoch: 47 [ 6912 , 7104  ] Loss: 0.00040141429053619504  Train set: Accuracy: 0.9902871621621622 % Test set: Accuracy: 0.9611486486486487 %\n",
            " Epoch: 48 [ 6912 , 7104  ] Loss: 0.006540058180689812  Train set: Accuracy: 0.9822635135135135 % Test set: Accuracy: 0.953125 %\n",
            " Epoch: 49 [ 6912 , 7104  ] Loss: 0.007275140378624201  Train set: Accuracy: 0.9855011261261262 % Test set: Accuracy: 0.9577702702702703 %\n",
            " Epoch: 50 [ 6912 , 7104  ] Loss: 0.0005161301814951003  Train set: Accuracy: 0.8765484234234234 % Test set: Accuracy: 0.8471283783783784 %\n",
            " Epoch: 51 [ 6912 , 7104  ] Loss: 0.001181728788651526  Train set: Accuracy: 0.9890202702702703 % Test set: Accuracy: 0.9569256756756757 %\n",
            " Epoch: 52 [ 6912 , 7104  ] Loss: 0.00021267752163112164  Train set: Accuracy: 0.8923141891891891 % Test set: Accuracy: 0.8568412162162162 %\n",
            " Epoch: 53 [ 6912 , 7104  ] Loss: 0.00024603039491921663  Train set: Accuracy: 0.9380630630630631 % Test set: Accuracy: 0.9066722972972973 %\n",
            " Epoch: 54 [ 6912 , 7104  ] Loss: 0.0005743296933360398  Train set: Accuracy: 0.9905686936936937 % Test set: Accuracy: 0.9615709459459459 %\n",
            " Epoch: 55 [ 6912 , 7104  ] Loss: 0.0005114804953336716  Train set: Accuracy: 0.9767736486486487 % Test set: Accuracy: 0.9467905405405406 %\n",
            " Epoch: 56 [ 6912 , 7104  ] Loss: 0.06970871239900589  Train set: Accuracy: 0.951295045045045 % Test set: Accuracy: 0.9239864864864865 %\n",
            " Epoch: 57 [ 6912 , 7104  ] Loss: 0.00010995157936122268  Train set: Accuracy: 0.9877533783783784 % Test set: Accuracy: 0.9552364864864865 %\n",
            " Epoch: 58 [ 6912 , 7104  ] Loss: 0.009879259392619133  Train set: Accuracy: 0.9787443693693694 % Test set: Accuracy: 0.9505912162162162 %\n",
            " Epoch: 59 [ 6912 , 7104  ] Loss: 0.00014950049808248878  Train set: Accuracy: 0.9884572072072072 % Test set: Accuracy: 0.9594594594594594 %\n",
            " Epoch: 60 [ 6912 , 7104  ] Loss: 4.220174378133379e-05  Train set: Accuracy: 0.990990990990991 % Test set: Accuracy: 0.9641047297297297 %\n",
            " Epoch: 61 [ 6912 , 7104  ] Loss: 0.00024157932784873992  Train set: Accuracy: 0.9894425675675675 % Test set: Accuracy: 0.9569256756756757 %\n",
            " Epoch: 62 [ 6912 , 7104  ] Loss: 0.0003589000552892685  Train set: Accuracy: 0.9156813063063063 % Test set: Accuracy: 0.8851351351351351 %\n",
            " Epoch: 63 [ 6912 , 7104  ] Loss: 0.0037060948088765144  Train set: Accuracy: 0.9901463963963963 % Test set: Accuracy: 0.9624155405405406 %\n",
            " Epoch: 64 [ 6912 , 7104  ] Loss: 0.00020968668104615062  Train set: Accuracy: 0.9907094594594594 % Test set: Accuracy: 0.964527027027027 %\n",
            " Epoch: 65 [ 6912 , 7104  ] Loss: 0.0007559362566098571  Train set: Accuracy: 0.875 % Test set: Accuracy: 0.8534628378378378 %\n",
            " Epoch: 66 [ 6912 , 7104  ] Loss: 0.003792257746681571  Train set: Accuracy: 0.8806306306306306 % Test set: Accuracy: 0.8526182432432432 %\n",
            " Epoch: 67 [ 6912 , 7104  ] Loss: 0.0022379911970347166  Train set: Accuracy: 0.8597972972972973 % Test set: Accuracy: 0.8327702702702703 %\n",
            " Epoch: 68 [ 6912 , 7104  ] Loss: 0.0004665034939534962  Train set: Accuracy: 0.9370777027027027 % Test set: Accuracy: 0.9121621621621622 %\n",
            " Epoch: 69 [ 6912 , 7104  ] Loss: 0.00039111790829338133  Train set: Accuracy: 0.9907094594594594 % Test set: Accuracy: 0.9628378378378378 %\n",
            " Epoch: 70 [ 6912 , 7104  ] Loss: 0.0001793490955606103  Train set: Accuracy: 0.9184966216216216 % Test set: Accuracy: 0.886402027027027 %\n",
            " Epoch: 71 [ 6912 , 7104  ] Loss: 1.4069336430111434e-05  Train set: Accuracy: 0.9905686936936937 % Test set: Accuracy: 0.9619932432432432 %\n",
            " Epoch: 72 [ 6912 , 7104  ] Loss: 0.006327755283564329  Train set: Accuracy: 0.9905686936936937 % Test set: Accuracy: 0.9649493243243243 %\n",
            " Epoch: 73 [ 6912 , 7104  ] Loss: 0.0002602686290629208  Train set: Accuracy: 0.9559403153153153 % Test set: Accuracy: 0.9290540540540541 %\n",
            " Epoch: 74 [ 6912 , 7104  ] Loss: 0.016112560406327248  Train set: Accuracy: 0.9182150900900901 % Test set: Accuracy: 0.886402027027027 %\n",
            " Epoch: 75 [ 6912 , 7104  ] Loss: 0.0007263397565111518  Train set: Accuracy: 0.9895833333333334 % Test set: Accuracy: 0.9603040540540541 %\n",
            " Epoch: 76 [ 6912 , 7104  ] Loss: 0.005003784317523241  Train set: Accuracy: 0.9907094594594594 % Test set: Accuracy: 0.9607263513513513 %\n",
            " Epoch: 77 [ 6912 , 7104  ] Loss: 0.0001425161462975666  Train set: Accuracy: 0.990990990990991 % Test set: Accuracy: 0.9624155405405406 %\n",
            " Epoch: 78 [ 6912 , 7104  ] Loss: 0.00011238335719099268  Train set: Accuracy: 0.990990990990991 % Test set: Accuracy: 0.9636824324324325 %\n",
            " Epoch: 79 [ 6912 , 7104  ] Loss: 5.86355927225668e-05  Train set: Accuracy: 0.9904279279279279 % Test set: Accuracy: 0.9624155405405406 %\n",
            " Epoch: 80 [ 6912 , 7104  ] Loss: 0.0001849976397352293  Train set: Accuracy: 0.9888795045045045 % Test set: Accuracy: 0.957347972972973 %\n",
            " Epoch: 81 [ 6912 , 7104  ] Loss: 0.00010349444346502423  Train set: Accuracy: 0.9624155405405406 % Test set: Accuracy: 0.9311655405405406 %\n",
            " Epoch: 82 [ 6912 , 7104  ] Loss: 0.0002689678512979299  Train set: Accuracy: 0.7595720720720721 % Test set: Accuracy: 0.7415540540540541 %\n",
            " Epoch: 83 [ 6912 , 7104  ] Loss: 0.0005762376822531223  Train set: Accuracy: 0.7573198198198198 % Test set: Accuracy: 0.7377533783783784 %\n",
            " Epoch: 84 [ 6912 , 7104  ] Loss: 0.006420718505978584  Train set: Accuracy: 0.9635416666666666 % Test set: Accuracy: 0.934543918918919 %\n",
            " Epoch: 85 [ 6912 , 7104  ] Loss: 6.336074147839099e-05  Train set: Accuracy: 0.9908502252252253 % Test set: Accuracy: 0.9636824324324325 %\n",
            " Epoch: 86 [ 6912 , 7104  ] Loss: 0.04078543558716774  Train set: Accuracy: 0.8900619369369369 % Test set: Accuracy: 0.8576858108108109 %\n",
            " Epoch: 87 [ 6912 , 7104  ] Loss: 0.027357447892427444  Train set: Accuracy: 0.8544481981981982 % Test set: Accuracy: 0.8298141891891891 %\n",
            " Epoch: 88 [ 6912 , 7104  ] Loss: 0.0005144152673892677  Train set: Accuracy: 0.9871903153153153 % Test set: Accuracy: 0.9577702702702703 %\n",
            " Epoch: 89 [ 6912 , 7104  ] Loss: 2.0246605345164426e-05  Train set: Accuracy: 0.9876126126126126 % Test set: Accuracy: 0.9577702702702703 %\n",
            " Epoch: 90 [ 6912 , 7104  ] Loss: 1.883243749034591e-05  Train set: Accuracy: 0.9867680180180181 % Test set: Accuracy: 0.9552364864864865 %\n",
            " Epoch: 91 [ 6912 , 7104  ] Loss: 4.616478690877557e-05  Train set: Accuracy: 0.6735641891891891 % Test set: Accuracy: 0.6668074324324325 %\n",
            " Epoch: 92 [ 6912 , 7104  ] Loss: 0.025736004114151  Train set: Accuracy: 0.9905686936936937 % Test set: Accuracy: 0.9603040540540541 %\n",
            " Epoch: 93 [ 6912 , 7104  ] Loss: 0.0006436127005144954  Train set: Accuracy: 0.846706081081081 % Test set: Accuracy: 0.8319256756756757 %\n",
            " Epoch: 94 [ 6912 , 7104  ] Loss: 0.0021674588788300753  Train set: Accuracy: 0.9840934684684685 % Test set: Accuracy: 0.9522804054054054 %\n",
            " Epoch: 95 [ 6912 , 7104  ] Loss: 3.643150193965994e-05  Train set: Accuracy: 0.9894425675675675 % Test set: Accuracy: 0.9581925675675675 %\n",
            " Epoch: 96 [ 6912 , 7104  ] Loss: 2.1113259208505042e-05  Train set: Accuracy: 0.9908502252252253 % Test set: Accuracy: 0.9636824324324325 %\n",
            " Epoch: 97 [ 6912 , 7104  ] Loss: 1.024789617076749e-05  Train set: Accuracy: 0.9908502252252253 % Test set: Accuracy: 0.9615709459459459 %\n",
            " Epoch: 98 [ 6912 , 7104  ] Loss: 1.1865296983160079e-05  Train set: Accuracy: 0.990990990990991 % Test set: Accuracy: 0.9628378378378378 %\n",
            " Epoch: 99 [ 6912 , 7104  ] Loss: 7.154173090384575e-06  Train set: Accuracy: 0.9817004504504504 % Test set: Accuracy: 0.9505912162162162 %\n",
            " best Accuracy:  0.9649493243243243\n"
          ],
          "name": "stdout"
        }
      ]
    },
    {
      "cell_type": "markdown",
      "metadata": {
        "id": "pnd2T9GoYQg1"
      },
      "source": [
        "# Pruebas"
      ]
    },
    {
      "cell_type": "code",
      "metadata": {
        "colab": {
          "base_uri": "https://localhost:8080/",
          "height": 319
        },
        "id": "MEzbM6CAce-V",
        "outputId": "c2085f62-9c70-4524-c272-4eb5f0dfeb03"
      },
      "source": [
        "from PIL import Image\n",
        "import matplotlib.pyplot as plt\n",
        "\n",
        "image_num = 1\n",
        "\n",
        "IMM = img_test[image_num][0].to(\"cpu\")\n",
        "print(IMM.size())\n",
        "plt.imshow(IMM,cmap='gray')\n",
        "plt.show()\n",
        "\n",
        "Out_Channels = 2\n",
        "Dropout = 0.001\n",
        "Convolution_Layer = [32, 0, 16, 0 , 16, 0, 16 ,0, 16, 0]\n",
        "Lineal_Layer = [32, 16]\n",
        "\n",
        "model = VGG(\n",
        "    Convolution_Layer,\n",
        "    Lineal_Layer,\n",
        "    Dropout,\n",
        "    Out_Channels\n",
        "    )\n",
        "\n",
        "model.load_state_dict(torch.load(address + \"/\" +'0.9590371621621622% Drop[0.001] CL[32 0 16 0 16 0 16 0 16 0 ]LL[32 16 ].pth'))\n",
        "model.eval()\n",
        "model.to(device)\n",
        "\n",
        "\n",
        "image = img_test[image_num].float().div_(255).unsqueeze_(1).to(device)\n",
        "\n",
        "print(model.forward(image))\n",
        "print(trg_test[image_num])\n"
      ],
      "execution_count": null,
      "outputs": [
        {
          "output_type": "stream",
          "text": [
            "torch.Size([128, 128])\n"
          ],
          "name": "stdout"
        },
        {
          "output_type": "display_data",
          "data": {
            "image/png": "[encoded data removed]",
            "text/plain": [
              "<Figure size 432x288 with 1 Axes>"
            ]
          },
          "metadata": {
            "tags": [],
            "needs_background": "light"
          }
        },
        {
          "output_type": "stream",
          "text": [
            "tensor([[-38.9186,   0.0000]], device='cuda:0', grad_fn=<LogSoftmaxBackward>)\n",
            "tensor(1., device='cuda:0')\n"
          ],
          "name": "stdout"
        }
      ]
    },
    {
      "cell_type": "code",
      "metadata": {
        "id": "O6uAfuI1lBRC"
      },
      "source": [
        ""
      ],
      "execution_count": null,
      "outputs": []
    }
  ]
}