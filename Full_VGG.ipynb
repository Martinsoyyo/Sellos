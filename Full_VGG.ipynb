{
  "nbformat": 4,
  "nbformat_minor": 0,
  "metadata": {
    "accelerator": "GPU",
    "colab": {
      "name": "Full VGG.ipynb",
      "provenance": [],
      "collapsed_sections": [],
      "include_colab_link": true
    },
    "kernelspec": {
      "display_name": "Python 3",
      "name": "python3"
    },
    "language_info": {
      "name": "python"
    }
  },
  "cells": [
    {
      "cell_type": "markdown",
      "metadata": {
        "id": "view-in-github",
        "colab_type": "text"
      },
      "source": [
        "<a href=\"https://colab.research.google.com/github/Martinsoyyo/Sellos/blob/master/Full_VGG.ipynb\" target=\"_parent\"><img src=\"https://colab.research.google.com/assets/colab-badge.svg\" alt=\"Open In Colab\"/></a>"
      ]
    },
    {
      "cell_type": "markdown",
      "metadata": {
        "id": "wlhCeW6ehxEY"
      },
      "source": [
        "# Condiciones iniciales"
      ]
    },
    {
      "cell_type": "code",
      "metadata": {
        "id": "vUWM3GRa4AB5"
      },
      "source": [
        "address          = '/content/drive/MyDrive/Colada_40mm_python'\n",
        "image_size       = 128\n",
        "train_percentage = 0.75\n",
        "epochs           = 100\n",
        "batch_size       = 100\n",
        "use_gpu          = True\n",
        "\n",
        "import torch\n",
        "device = torch.device(\"cuda\" if use_gpu else \"cpu\")"
      ],
      "execution_count": 24,
      "outputs": []
    },
    {
      "cell_type": "markdown",
      "metadata": {
        "id": "DtPw9wyjC_A7"
      },
      "source": [
        "#Dataset Builder"
      ]
    },
    {
      "cell_type": "code",
      "metadata": {
        "id": "nsuxyGLkksP_"
      },
      "source": [
        "## Crea Tensores [_images , _target ]"
      ],
      "execution_count": null,
      "outputs": []
    },
    {
      "cell_type": "markdown",
      "metadata": {
        "id": "T_o2Z0j29n97"
      },
      "source": [
        "### Funciones Auxiliares"
      ]
    },
    {
      "cell_type": "code",
      "metadata": {
        "id": "lo95IQy-37Ns"
      },
      "source": [
        "def GetDirectoryStructure(dirName):\n",
        "    listOfFile = os.listdir(dirName)\n",
        "    alldir = list()\n",
        "\n",
        "    for entry in listOfFile:\n",
        "        fullPath = os.path.join(dirName, entry)\n",
        "       \n",
        "        if os.path.isdir(fullPath):\n",
        "            alldir.append(fullPath)\n",
        "    return alldir"
      ],
      "execution_count": 6,
      "outputs": []
    },
    {
      "cell_type": "code",
      "metadata": {
        "id": "JMwzgIY663bk"
      },
      "source": [
        "def GetFilesFromDirectory(dirName):\n",
        "    listOfFile = os.listdir(dirName)\n",
        "    allFiles = list()\n",
        "\n",
        "    for entry in listOfFile:\n",
        "        fullPath = os.path.join(dirName, entry)\n",
        "\n",
        "        if not os.path.isdir(fullPath):\n",
        "            allFiles.append(fullPath)\n",
        "                \n",
        "    return allFiles"
      ],
      "execution_count": 7,
      "outputs": []
    },
    {
      "cell_type": "code",
      "metadata": {
        "colab": {
          "base_uri": "https://localhost:8080/"
        },
        "id": "64vO0Mzh9u6Y",
        "outputId": "70635890-0e85-488c-ffb8-946f1dc348b9"
      },
      "source": [
        "from google.colab import drive\n",
        "drive.mount('/content/drive')"
      ],
      "execution_count": 3,
      "outputs": [
        {
          "output_type": "stream",
          "text": [
            "Mounted at /content/drive\n"
          ],
          "name": "stdout"
        }
      ]
    },
    {
      "cell_type": "code",
      "metadata": {
        "id": "EB1FXIfczy1A"
      },
      "source": [
        "#import random\n",
        "#random.shuffle(data_csv)\n",
        "#data_csv"
      ],
      "execution_count": null,
      "outputs": []
    },
    {
      "cell_type": "markdown",
      "metadata": {
        "id": "AQjl5ulFkVH3"
      },
      "source": [
        "### Levanta todos los nombres de archivos de imagenes."
      ]
    },
    {
      "cell_type": "code",
      "metadata": {
        "id": "HcJEWoIzkStn",
        "colab": {
          "base_uri": "https://localhost:8080/"
        },
        "outputId": "569b984f-9439-4d36-fe7e-e4c10b7fc8e6"
      },
      "source": [
        "import os\n",
        "\n",
        "data_csv = []\n",
        "\n",
        "dirs = GetDirectoryStructure(address)\n",
        "_dir_count = 0\n",
        "for _dir in dirs:\n",
        "  files = GetFilesFromDirectory(_dir)\n",
        "  for _files in files:\n",
        "    fullPath = os.path.join(_dir, _files)\n",
        "    data_csv.append( [fullPath , _dir_count-1] );\n",
        "  _dir_count+= 1\n",
        "\n",
        "print(len(data_csv))"
      ],
      "execution_count": 17,
      "outputs": [
        {
          "output_type": "stream",
          "text": [
            "9472\n"
          ],
          "name": "stdout"
        }
      ]
    },
    {
      "cell_type": "code",
      "metadata": {
        "id": "Wh1diQDoB0oJ"
      },
      "source": [
        "import cv2\n",
        "import cv2\n",
        "import torch\n",
        "\n",
        "_images = []\n",
        "_target = []\n",
        "\n",
        "for img_address, target_value in data_csv:\n",
        "  print(\"Processing..\",img_address)\n",
        "  img = cv2.imread(img_address)\n",
        "  img = cv2.cvtColor(img, cv2.COLOR_BGR2GRAY)\n",
        "  _images.append(torch.from_numpy(img))\n",
        "  _target.append(target_value)\n"
      ],
      "execution_count": null,
      "outputs": []
    },
    {
      "cell_type": "markdown",
      "metadata": {
        "id": "nQmhdHTvj8wJ"
      },
      "source": [
        "### Mezcla tensores a partir de un index."
      ]
    },
    {
      "cell_type": "code",
      "metadata": {
        "id": "cv4YKBzRM3IT"
      },
      "source": [
        "_images = torch.stack(_images)\n",
        "_target = torch.Tensor(_target)\n",
        "\n",
        "IDX = torch.randperm(_images.size()[0])\n",
        "_images = _images.index_select(0, IDX)\n",
        "_target = _target.index_select(0, IDX)\n"
      ],
      "execution_count": 21,
      "outputs": []
    },
    {
      "cell_type": "markdown",
      "metadata": {
        "id": "WqCLkbfdz_Mf"
      },
      "source": [
        "### Redimensiona y graba a disco."
      ]
    },
    {
      "cell_type": "code",
      "metadata": {
        "colab": {
          "base_uri": "https://localhost:8080/"
        },
        "id": "1q1Envf6GQts",
        "outputId": "2a0f57d9-0498-496c-95ba-58203e5db8bd"
      },
      "source": [
        "_images.unsqueeze_(1)\n",
        "print(_images.size())\n",
        "torch.save(_images, address+'/'+ str(image_size) +'x'+ str(image_size) + '_IMAGES.tensor')\n",
        "\n",
        "print(_target.size())\n",
        "torch.save(_target, address+'/'+ str(image_size) +'x'+ str(image_size) + '_TARGET.tensor')\n"
      ],
      "execution_count": 28,
      "outputs": [
        {
          "output_type": "stream",
          "text": [
            "torch.Size([9472, 1, 128, 128])\n",
            "torch.Size([9472])\n"
          ],
          "name": "stdout"
        }
      ]
    },
    {
      "cell_type": "markdown",
      "metadata": {
        "id": "6HCDJZ4v9Ms8"
      },
      "source": [
        "#Definicion de la Red"
      ]
    },
    {
      "cell_type": "code",
      "metadata": {
        "id": "AEug7DXDN_YS"
      },
      "source": [
        "import torch\n",
        "import copy\n",
        "import torch.nn as nn\n",
        "from collections import OrderedDict\n",
        "\n",
        "def VGG(Convolution_Layer, Lineal_Layer,Drop,Out_Channels ):\n",
        "  modules = []\n",
        "\n",
        "  i = 0\n",
        "  channels = 1\n",
        "  num_of_maxpools = 0\n",
        "  for _params in Convolution_Layer:\n",
        "    if _params == 0:\n",
        "      modules.append(nn.AvgPool2d(2, 2))\n",
        "      num_of_maxpools +=1\n",
        "    else:\n",
        "      modules.append(nn.Conv2d(channels,_params,3,1,1))\n",
        "      modules.append(nn.BatchNorm2d(_params))\n",
        "      modules.append(nn.ReLU())\n",
        "      modules.append(nn.Dropout(Drop))\n",
        "      channels = _params\n",
        "\n",
        "  modules.append(nn.Flatten())\n",
        "\n",
        "\n",
        "  aux = int(image_size / pow(2, num_of_maxpools))\n",
        "  channels *= pow(aux,2)\n",
        "\n",
        "  for _params in Lineal_Layer:\n",
        "    modules.append( nn.Linear(channels,_params))\n",
        "    modules.append(nn.ReLU());\n",
        "    channels = _params\n",
        "\n",
        "  modules.append(nn.Linear(channels,Out_Channels))\n",
        "  modules.append(nn.LogSoftmax(1))\n",
        "\n",
        "  model = nn.Sequential(*modules)\n",
        "  return model"
      ],
      "execution_count": 29,
      "outputs": []
    },
    {
      "cell_type": "code",
      "metadata": {
        "id": "2f9UiTc-9OQt"
      },
      "source": [
        ""
      ],
      "execution_count": null,
      "outputs": []
    },
    {
      "cell_type": "markdown",
      "metadata": {
        "id": "PSncRAoGxgfu"
      },
      "source": [
        "#Entrenamiento"
      ]
    },
    {
      "cell_type": "markdown",
      "metadata": {
        "id": "WJkGLuL-0GA3"
      },
      "source": [
        "\n",
        "## Carga tensores desde el Drive."
      ]
    },
    {
      "cell_type": "code",
      "metadata": {
        "colab": {
          "base_uri": "https://localhost:8080/"
        },
        "id": "aLJV-sxKxBUR",
        "outputId": "c4056f76-2a08-4611-e790-bdf88b6526da"
      },
      "source": [
        "img = torch.load(address+'/'+ str(image_size) +'x'+ str(image_size) + '_IMAGES.tensor')\n",
        "trg = torch.load(address+'/'+ str(image_size) +'x'+ str(image_size) + '_TARGET.tensor')\n",
        "\n",
        "print(img.size())\n",
        "print(trg.size())"
      ],
      "execution_count": 30,
      "outputs": [
        {
          "output_type": "stream",
          "text": [
            "torch.Size([9472, 1, 128, 128])\n",
            "torch.Size([9472])\n"
          ],
          "name": "stdout"
        }
      ]
    },
    {
      "cell_type": "markdown",
      "metadata": {
        "id": "Z1s7E9Dx0N2K"
      },
      "source": [
        "## Separa tensores de Trainning y Testeo."
      ]
    },
    {
      "cell_type": "code",
      "metadata": {
        "colab": {
          "base_uri": "https://localhost:8080/"
        },
        "id": "_5m-BqFZ0Nal",
        "outputId": "e7afa2ec-9155-42cd-af6a-961377bdb735"
      },
      "source": [
        "length = img.size()[0]\n",
        "\n",
        "img_train = img[0:int(length*train_percentage)].to(device)\n",
        "trg_train = trg[0:int(length*train_percentage)].to(device)\n",
        "\n",
        "img_test = img[int(length*train_percentage):].to(device)\n",
        "trg_test = trg[int(length*train_percentage):].to(device)\n",
        "\n",
        "print(\"Total.\",img.size())\n",
        "print(\"Train. \",img_train.size())\n",
        "print(\"Test. \",img_test.size())"
      ],
      "execution_count": 31,
      "outputs": [
        {
          "output_type": "stream",
          "text": [
            "torch.Size([9472, 1, 128, 128])\n",
            "Train torch.Size([7104, 1, 128, 128])\n",
            "Test torch.Size([2368, 1, 128, 128])\n"
          ],
          "name": "stdout"
        }
      ]
    },
    {
      "cell_type": "markdown",
      "metadata": {
        "id": "1Etz8vVmE_sc"
      },
      "source": [
        "## Funciones de entrenamiento y prueba."
      ]
    },
    {
      "cell_type": "code",
      "metadata": {
        "id": "iNIZXsZR_5Pl"
      },
      "source": [
        "def Train(epoch):\n",
        "  model.train()\n",
        "\n",
        "  IMAGE  = img_train.split(batch_size);\n",
        "  TARGET = trg_train.split(batch_size);\n",
        "  #N = int(img_train.size()[0]/batch_size)\n",
        "\n",
        "  for idx in range(len(IMAGE)):\n",
        "    output = model.forward(IMAGE[idx].float().div_(255));\n",
        "    loss   = criterion(output, TARGET[idx].long())\n",
        "\n",
        "    optimizer.zero_grad();\n",
        "    loss.backward()\n",
        "    optimizer.step()\n",
        "\n",
        "    print(\"\\r Epoch:\",str(epoch), \"[\",idx * batch_size, \",\", img_train.size()[0],\" ] Loss:\",loss.item(), end=\" \") "
      ],
      "execution_count": 44,
      "outputs": []
    },
    {
      "cell_type": "code",
      "metadata": {
        "id": "h0wptZOPNyK6"
      },
      "source": [
        "def Test(IMG, TRG):\n",
        "  model.eval()\n",
        "  \n",
        "  with torch.no_grad():\n",
        "    IMAGE  = IMG.split(batch_size);\n",
        "    TARGET = TRG.split(batch_size);\n",
        "    #N = int(IMG.size()[0]/batch_size)\n",
        "\n",
        "    correct = 0\n",
        "    for idx in range(len(IMAGE)):\n",
        "      output = model.forward(IMAGE[idx].float().div_(255));\n",
        "      predicted = output.data.max(1)[1].long()\n",
        "      correct += int( (predicted == TARGET[idx].long() ).sum().item())\n",
        "\n",
        "  return (float(correct) / IMG.size()[0]);"
      ],
      "execution_count": 45,
      "outputs": []
    },
    {
      "cell_type": "code",
      "metadata": {
        "id": "r4N-9I839_YB"
      },
      "source": [
        "def initialize_weights(m):\n",
        "  if isinstance(m, nn.Conv2d):\n",
        "      nn.init.xavier_uniform_(m.weight)\n",
        "     # nn.init.kaiming_uniform_(m.weight.data,nonlinearity='relu')\n",
        "      if m.bias is not None:\n",
        "          nn.init.constant_(m.bias.data, 0)\n",
        "  elif isinstance(m, nn.BatchNorm2d):\n",
        "      nn.init.constant_(m.weight.data, 1)\n",
        "      nn.init.constant_(m.bias.data, 0)\n",
        "  elif isinstance(m, nn.Linear):\n",
        "      nn.init.kaiming_uniform_(m.weight.data)\n",
        "      nn.init.constant_(m.bias.data, 0)"
      ],
      "execution_count": 34,
      "outputs": []
    },
    {
      "cell_type": "code",
      "metadata": {
        "id": "pjyCrXt5XfR0"
      },
      "source": [
        "def Get_Names(Convolution_Layer, Lineal_Layer,Dropout,Eff ):\n",
        "\n",
        "  name = \"\" \n",
        "  name += str(Eff) + \"% \"\n",
        "  name += \"Drop[\" + str(Dropout) + \"] \"\n",
        "\n",
        "  name += \"CL[\" \n",
        "  for _params in Convolution_Layer:\n",
        "    name += str(_params) + \" \"\n",
        "\n",
        "  name += \"]LL[\" \n",
        "  for _params in Lineal_Layer:\n",
        "    name += str(_params) + \" \"\n",
        "  name += \"]\" \n",
        "\n",
        "  return name"
      ],
      "execution_count": 35,
      "outputs": []
    },
    {
      "cell_type": "code",
      "metadata": {
        "colab": {
          "base_uri": "https://localhost:8080/"
        },
        "id": "SL9IN1uicDfR",
        "outputId": "3030c06c-6999-4a54-e344-f77874f32c65"
      },
      "source": [
        "Epochs = 70  \n",
        "Out_Channels = 2\n",
        "Dropout = 0.01\n",
        "Convolution_Layer = [32, 0, 16, 16, 0, 16, 16, 0, 16, 16, 0, 16, 16, 0, 16, 16, 0]\n",
        "Lineal_Layer = [32, 16]\n",
        "\n",
        "model = VGG(\n",
        "    Convolution_Layer,\n",
        "    Lineal_Layer,\n",
        "    Dropout,\n",
        "    Out_Channels\n",
        "    )\n",
        "\n",
        "print(model)\n",
        "model.to(device)\n",
        "model.apply(initialize_weights)\n",
        "\n",
        "criterion = nn.NLLLoss()\n",
        "optimizer = torch.optim.Adam(model.parameters(), 0.001)\n",
        "#optimizer = torch.optim.SGD(model.parameters(), 0.01, 0.1);\n",
        "\n",
        "best_test_value = 0.0\n",
        "for idx in range(Epochs):\n",
        "  Train(idx)\n",
        "\n",
        "  test = Test(img_test,trg_test)\n",
        "  if( test > best_test_value):\n",
        "    best_test_value = test\n",
        "    torch.save(model.state_dict(), address + \"/best_model.pth\")\n",
        "    #torch.save(model, address + \"/best_model.pth\") \n",
        "  \n",
        "  print(\" Train set: Accuracy:\", Test(img_train,trg_train),\"% Test set: Accuracy:\", test,\"%\")\n",
        "\n",
        "print(\" best Accuracy: \",best_test_value)\n",
        "model = torch.load(address + \"/best_model.pth\")\n",
        "torch.save(model, address + \"/\" +  Get_Names(Convolution_Layer, Lineal_Layer,Dropout,best_test_value ) + \".pth\")"
      ],
      "execution_count": 53,
      "outputs": [
        {
          "output_type": "stream",
          "text": [
            "Sequential(\n",
            "  (0): Conv2d(1, 32, kernel_size=(3, 3), stride=(1, 1), padding=(1, 1))\n",
            "  (1): BatchNorm2d(32, eps=1e-05, momentum=0.1, affine=True, track_running_stats=True)\n",
            "  (2): ReLU()\n",
            "  (3): Dropout(p=0.01, inplace=False)\n",
            "  (4): AvgPool2d(kernel_size=2, stride=2, padding=0)\n",
            "  (5): Conv2d(32, 16, kernel_size=(3, 3), stride=(1, 1), padding=(1, 1))\n",
            "  (6): BatchNorm2d(16, eps=1e-05, momentum=0.1, affine=True, track_running_stats=True)\n",
            "  (7): ReLU()\n",
            "  (8): Dropout(p=0.01, inplace=False)\n",
            "  (9): Conv2d(16, 16, kernel_size=(3, 3), stride=(1, 1), padding=(1, 1))\n",
            "  (10): BatchNorm2d(16, eps=1e-05, momentum=0.1, affine=True, track_running_stats=True)\n",
            "  (11): ReLU()\n",
            "  (12): Dropout(p=0.01, inplace=False)\n",
            "  (13): AvgPool2d(kernel_size=2, stride=2, padding=0)\n",
            "  (14): Conv2d(16, 16, kernel_size=(3, 3), stride=(1, 1), padding=(1, 1))\n",
            "  (15): BatchNorm2d(16, eps=1e-05, momentum=0.1, affine=True, track_running_stats=True)\n",
            "  (16): ReLU()\n",
            "  (17): Dropout(p=0.01, inplace=False)\n",
            "  (18): Conv2d(16, 16, kernel_size=(3, 3), stride=(1, 1), padding=(1, 1))\n",
            "  (19): BatchNorm2d(16, eps=1e-05, momentum=0.1, affine=True, track_running_stats=True)\n",
            "  (20): ReLU()\n",
            "  (21): Dropout(p=0.01, inplace=False)\n",
            "  (22): AvgPool2d(kernel_size=2, stride=2, padding=0)\n",
            "  (23): Conv2d(16, 16, kernel_size=(3, 3), stride=(1, 1), padding=(1, 1))\n",
            "  (24): BatchNorm2d(16, eps=1e-05, momentum=0.1, affine=True, track_running_stats=True)\n",
            "  (25): ReLU()\n",
            "  (26): Dropout(p=0.01, inplace=False)\n",
            "  (27): Conv2d(16, 16, kernel_size=(3, 3), stride=(1, 1), padding=(1, 1))\n",
            "  (28): BatchNorm2d(16, eps=1e-05, momentum=0.1, affine=True, track_running_stats=True)\n",
            "  (29): ReLU()\n",
            "  (30): Dropout(p=0.01, inplace=False)\n",
            "  (31): AvgPool2d(kernel_size=2, stride=2, padding=0)\n",
            "  (32): Conv2d(16, 16, kernel_size=(3, 3), stride=(1, 1), padding=(1, 1))\n",
            "  (33): BatchNorm2d(16, eps=1e-05, momentum=0.1, affine=True, track_running_stats=True)\n",
            "  (34): ReLU()\n",
            "  (35): Dropout(p=0.01, inplace=False)\n",
            "  (36): Conv2d(16, 16, kernel_size=(3, 3), stride=(1, 1), padding=(1, 1))\n",
            "  (37): BatchNorm2d(16, eps=1e-05, momentum=0.1, affine=True, track_running_stats=True)\n",
            "  (38): ReLU()\n",
            "  (39): Dropout(p=0.01, inplace=False)\n",
            "  (40): AvgPool2d(kernel_size=2, stride=2, padding=0)\n",
            "  (41): Conv2d(16, 16, kernel_size=(3, 3), stride=(1, 1), padding=(1, 1))\n",
            "  (42): BatchNorm2d(16, eps=1e-05, momentum=0.1, affine=True, track_running_stats=True)\n",
            "  (43): ReLU()\n",
            "  (44): Dropout(p=0.01, inplace=False)\n",
            "  (45): Conv2d(16, 16, kernel_size=(3, 3), stride=(1, 1), padding=(1, 1))\n",
            "  (46): BatchNorm2d(16, eps=1e-05, momentum=0.1, affine=True, track_running_stats=True)\n",
            "  (47): ReLU()\n",
            "  (48): Dropout(p=0.01, inplace=False)\n",
            "  (49): AvgPool2d(kernel_size=2, stride=2, padding=0)\n",
            "  (50): Flatten(start_dim=1, end_dim=-1)\n",
            "  (51): Linear(in_features=64, out_features=32, bias=True)\n",
            "  (52): ReLU()\n",
            "  (53): Linear(in_features=32, out_features=16, bias=True)\n",
            "  (54): ReLU()\n",
            "  (55): Linear(in_features=16, out_features=2, bias=True)\n",
            "  (56): LogSoftmax(dim=1)\n",
            ")\n",
            " Epoch: 0 [ 7100 , 7104  ] Loss: 0.1412910372018814  Train set: Accuracy: 0.6482263513513513 % Test set: Accuracy: 0.6288006756756757 %\n",
            " Epoch: 1 [ 7100 , 7104  ] Loss: 0.44454193115234375  Train set: Accuracy: 0.5881193693693694 % Test set: Accuracy: 0.566722972972973 %\n",
            " Epoch: 2 [ 7100 , 7104  ] Loss: 0.05450976639986038  Train set: Accuracy: 0.9346846846846847 % Test set: Accuracy: 0.9307432432432432 %\n",
            " Epoch: 3 [ 7100 , 7104  ] Loss: 0.1838734894990921  Train set: Accuracy: 0.8089808558558559 % Test set: Accuracy: 0.7989864864864865 %\n",
            " Epoch: 4 [ 7100 , 7104  ] Loss: 0.39965546131134033  Train set: Accuracy: 0.9448198198198198 % Test set: Accuracy: 0.9425675675675675 %\n",
            " Epoch: 5 [ 7100 , 7104  ] Loss: 0.020846523344516754  Train set: Accuracy: 0.5881193693693694 % Test set: Accuracy: 0.566722972972973 %\n",
            " Epoch: 6 [ 7100 , 7104  ] Loss: 0.016172392293810844  Train set: Accuracy: 0.589527027027027 % Test set: Accuracy: 0.5684121621621622 %\n",
            " Epoch: 7 [ 7100 , 7104  ] Loss: 0.009188108146190643  Train set: Accuracy: 0.6323198198198198 % Test set: Accuracy: 0.6081081081081081 %\n",
            " Epoch: 8 [ 7100 , 7104  ] Loss: 0.01807926408946514  Train set: Accuracy: 0.7345157657657657 % Test set: Accuracy: 0.7204391891891891 %\n",
            " Epoch: 9 [ 7100 , 7104  ] Loss: 0.010318499058485031  Train set: Accuracy: 0.9283502252252253 % Test set: Accuracy: 0.9239864864864865 %\n",
            " Epoch: 10 [ 7100 , 7104  ] Loss: 0.01892131008207798  Train set: Accuracy: 0.9519988738738738 % Test set: Accuracy: 0.9480574324324325 %\n",
            " Epoch: 11 [ 7100 , 7104  ] Loss: 0.005986372474581003  Train set: Accuracy: 0.5881193693693694 % Test set: Accuracy: 0.566722972972973 %\n",
            " Epoch: 12 [ 7100 , 7104  ] Loss: 0.1409319043159485  Train set: Accuracy: 0.9225788288288288 % Test set: Accuracy: 0.9222972972972973 %\n",
            " Epoch: 13 [ 7100 , 7104  ] Loss: 1.0276808738708496  Train set: Accuracy: 0.5357545045045045 % Test set: Accuracy: 0.5413851351351351 %\n",
            " Epoch: 14 [ 7100 , 7104  ] Loss: 0.651419460773468  Train set: Accuracy: 0.8482545045045045 % Test set: Accuracy: 0.8496621621621622 %\n",
            " Epoch: 15 [ 7100 , 7104  ] Loss: 0.32951128482818604  Train set: Accuracy: 0.4120213963963964 % Test set: Accuracy: 0.43369932432432434 %\n",
            " Epoch: 16 [ 7100 , 7104  ] Loss: 0.07022347301244736  Train set: Accuracy: 0.9869087837837838 % Test set: Accuracy: 0.981418918918919 %\n",
            " Epoch: 17 [ 7100 , 7104  ] Loss: 0.03442829102277756  Train set: Accuracy: 0.9328547297297297 % Test set: Accuracy: 0.9341216216216216 %\n",
            " Epoch: 18 [ 7100 , 7104  ] Loss: 0.0029670801013708115  Train set: Accuracy: 0.41188063063063063 % Test set: Accuracy: 0.43369932432432434 %\n",
            " Epoch: 19 [ 7100 , 7104  ] Loss: 0.008374499157071114  Train set: Accuracy: 0.6777871621621622 % Test set: Accuracy: 0.6862331081081081 %\n",
            " Epoch: 20 [ 7100 , 7104  ] Loss: 0.08859683573246002  Train set: Accuracy: 0.9829673423423423 % Test set: Accuracy: 0.9746621621621622 %\n",
            " Epoch: 21 [ 7100 , 7104  ] Loss: 0.0015307662542909384  Train set: Accuracy: 0.8074324324324325 % Test set: Accuracy: 0.7913851351351351 %\n",
            " Epoch: 22 [ 7100 , 7104  ] Loss: 0.0010078714694827795  Train set: Accuracy: 0.9856418918918919 % Test set: Accuracy: 0.9797297297297297 %\n",
            " Epoch: 23 [ 7100 , 7104  ] Loss: 0.0024073831737041473  Train set: Accuracy: 0.6037443693693694 % Test set: Accuracy: 0.6140202702702703 %\n",
            " Epoch: 24 [ 7100 , 7104  ] Loss: 0.0013570772716775537  Train set: Accuracy: 0.9929617117117117 % Test set: Accuracy: 0.9788851351351351 %\n",
            " Epoch: 25 [ 7100 , 7104  ] Loss: 0.0005817504716105759  Train set: Accuracy: 0.45087274774774777 % Test set: Accuracy: 0.4708614864864865 %\n",
            " Epoch: 26 [ 7100 , 7104  ] Loss: 0.0012507536448538303  Train set: Accuracy: 0.9773367117117117 % Test set: Accuracy: 0.9733952702702703 %\n",
            " Epoch: 27 [ 7100 , 7104  ] Loss: 0.001310506951995194  Train set: Accuracy: 0.942286036036036 % Test set: Accuracy: 0.9349662162162162 %\n",
            " Epoch: 28 [ 7100 , 7104  ] Loss: 0.007194019388407469  Train set: Accuracy: 0.9786036036036037 % Test set: Accuracy: 0.9679054054054054 %\n",
            " Epoch: 29 [ 7100 , 7104  ] Loss: 0.005326736252754927  Train set: Accuracy: 0.7960304054054054 % Test set: Accuracy: 0.8108108108108109 %\n",
            " Epoch: 30 [ 7100 , 7104  ] Loss: 0.11557911336421967  Train set: Accuracy: 0.7110078828828829 % Test set: Accuracy: 0.6908783783783784 %\n",
            " Epoch: 31 [ 7100 , 7104  ] Loss: 0.0015152771957218647  Train set: Accuracy: 0.9804335585585585 % Test set: Accuracy: 0.9767736486486487 %\n",
            " Epoch: 32 [ 7100 , 7104  ] Loss: 7.26522266631946e-05  Train set: Accuracy: 0.8019425675675675 % Test set: Accuracy: 0.8103885135135135 %\n",
            " Epoch: 33 [ 7100 , 7104  ] Loss: 0.0015736244386062026  Train set: Accuracy: 0.9566441441441441 % Test set: Accuracy: 0.9535472972972973 %\n",
            " Epoch: 34 [ 7100 , 7104  ] Loss: 4.5802666136296466e-05  Train set: Accuracy: 0.41188063063063063 % Test set: Accuracy: 0.43327702702702703 %\n",
            " Epoch: 35 [ 7100 , 7104  ] Loss: 0.00030620774487033486  Train set: Accuracy: 0.9217342342342343 % Test set: Accuracy: 0.9138513513513513 %\n",
            " Epoch: 36 [ 7100 , 7104  ] Loss: 8.570080535719171e-05  Train set: Accuracy: 0.9863457207207207 % Test set: Accuracy: 0.9784628378378378 %\n",
            " Epoch: 37 [ 7100 , 7104  ] Loss: 0.00020958096138201654  Train set: Accuracy: 0.9987331081081081 % Test set: Accuracy: 0.9911317567567568 %\n",
            " Epoch: 38 [ 7100 , 7104  ] Loss: 0.000492712773848325  Train set: Accuracy: 0.9807150900900901 % Test set: Accuracy: 0.9725506756756757 %\n",
            " Epoch: 39 [ 7100 , 7104  ] Loss: 2.9413778975140303e-05  Train set: Accuracy: 0.9954954954954955 % Test set: Accuracy: 0.9864864864864865 %\n",
            " Epoch: 40 [ 7100 , 7104  ] Loss: 8.445071580354124e-05  Train set: Accuracy: 0.9963400900900901 % Test set: Accuracy: 0.984375 %\n",
            " Epoch: 41 [ 7100 , 7104  ] Loss: 0.0524560809135437  Train set: Accuracy: 0.9787443693693694 % Test set: Accuracy: 0.9733952702702703 %\n",
            " Epoch: 42 [ 7100 , 7104  ] Loss: 0.11114898324012756  Train set: Accuracy: 0.8633164414414415 % Test set: Accuracy: 0.859375 %\n",
            " Epoch: 43 [ 7100 , 7104  ] Loss: 0.0001454346493119374  Train set: Accuracy: 0.9618524774774775 % Test set: Accuracy: 0.9552364864864865 %\n",
            " Epoch: 44 [ 7100 , 7104  ] Loss: 5.358139242161997e-05  Train set: Accuracy: 0.9791666666666666 % Test set: Accuracy: 0.9725506756756757 %\n",
            " Epoch: 45 [ 7100 , 7104  ] Loss: 1.0222101991530508e-05  Train set: Accuracy: 0.8696509009009009 % Test set: Accuracy: 0.8568412162162162 %\n",
            " Epoch: 46 [ 7100 , 7104  ] Loss: 1.4871046914777253e-05  Train set: Accuracy: 0.972972972972973 % Test set: Accuracy: 0.9708614864864865 %\n",
            " Epoch: 47 [ 7100 , 7104  ] Loss: 1.2486963896662928e-05  Train set: Accuracy: 0.894847972972973 % Test set: Accuracy: 0.8813344594594594 %\n",
            " Epoch: 48 [ 7100 , 7104  ] Loss: 2.6016183255705982e-05  Train set: Accuracy: 0.8509290540540541 % Test set: Accuracy: 0.8369932432432432 %\n",
            " Epoch: 49 [ 7100 , 7104  ] Loss: 2.920621682278579e-06  Train set: Accuracy: 0.9693130630630631 % Test set: Accuracy: 0.9628378378378378 %\n",
            " Epoch: 50 [ 7100 , 7104  ] Loss: 2.8012644179398194e-05  Train set: Accuracy: 0.982545045045045 % Test set: Accuracy: 0.9742398648648649 %\n",
            " Epoch: 51 [ 7100 , 7104  ] Loss: 8.016721039894037e-06  Train set: Accuracy: 0.9748029279279279 % Test set: Accuracy: 0.9700168918918919 %\n",
            " Epoch: 52 [ 7100 , 7104  ] Loss: 1.1056462426495273e-05  Train set: Accuracy: 0.9013231981981982 % Test set: Accuracy: 0.8889358108108109 %\n",
            " Epoch: 53 [ 7100 , 7104  ] Loss: 1.3380945347307716e-05  Train set: Accuracy: 0.9974662162162162 % Test set: Accuracy: 0.984375 %\n",
            " Epoch: 54 [ 7100 , 7104  ] Loss: 8.046622497204226e-07  Train set: Accuracy: 0.8331925675675675 % Test set: Accuracy: 0.8226351351351351 %\n",
            " Epoch: 55 [ 7100 , 7104  ] Loss: 5.125953975948505e-06  Train set: Accuracy: 0.6599099099099099 % Test set: Accuracy: 0.6427364864864865 %\n",
            " Epoch: 56 [ 7100 , 7104  ] Loss: 5.6624007811478805e-06  Train set: Accuracy: 0.9971846846846847 % Test set: Accuracy: 0.9869087837837838 %\n",
            " Epoch: 57 [ 7100 , 7104  ] Loss: 8.642667239655566e-07  Train set: Accuracy: 0.9987331081081081 % Test set: Accuracy: 0.9911317567567568 %\n",
            " Epoch: 58 [ 7100 , 7104  ] Loss: 1.9073420389759121e-06  Train set: Accuracy: 0.997043918918919 % Test set: Accuracy: 0.9894425675675675 %\n",
            " Epoch: 59 [ 7100 , 7104  ] Loss: 0.0004790308012161404  Train set: Accuracy: 0.9940878378378378 % Test set: Accuracy: 0.984375 %\n",
            " Epoch: 60 [ 7100 , 7104  ] Loss: 0.00158303405623883  Train set: Accuracy: 0.9574887387387387 % Test set: Accuracy: 0.9463682432432432 %\n",
            " Epoch: 61 [ 7100 , 7104  ] Loss: 0.00012341461842879653  Train set: Accuracy: 0.9726914414414415 % Test set: Accuracy: 0.9674831081081081 %\n",
            " Epoch: 62 [ 7100 , 7104  ] Loss: 0.0006106568034738302  Train set: Accuracy: 0.9653716216216216 % Test set: Accuracy: 0.9577702702702703 %\n",
            " Epoch: 63 [ 7100 , 7104  ] Loss: 0.010735483840107918  Train set: Accuracy: 0.9434121621621622 % Test set: Accuracy: 0.9362331081081081 %\n",
            " Epoch: 64 [ 7100 , 7104  ] Loss: 8.656080171931535e-05  Train set: Accuracy: 0.9425675675675675 % Test set: Accuracy: 0.9362331081081081 %\n",
            " Epoch: 65 [ 7100 , 7104  ] Loss: 0.0001083380775526166  Train set: Accuracy: 0.9956362612612613 % Test set: Accuracy: 0.9847972972972973 %\n",
            " Epoch: 66 [ 7100 , 7104  ] Loss: 3.933887910534395e-06  Train set: Accuracy: 0.9507319819819819 % Test set: Accuracy: 0.9442567567567568 %\n",
            " Epoch: 67 [ 7100 , 7104  ] Loss: 0.0027231809217482805  Train set: Accuracy: 0.9245495495495496 % Test set: Accuracy: 0.9206081081081081 %\n",
            " Epoch: 68 [ 7100 , 7104  ] Loss: 7.6293245001579635e-06  Train set: Accuracy: 0.9964808558558559 % Test set: Accuracy: 0.988597972972973 %\n",
            " Epoch: 69 [ 7100 , 7104  ] Loss: 4.440516477188794e-06  Train set: Accuracy: 0.9973254504504504 % Test set: Accuracy: 0.9907094594594594 %\n",
            " best Accuracy:  0.9911317567567568\n"
          ],
          "name": "stdout"
        }
      ]
    },
    {
      "cell_type": "markdown",
      "metadata": {
        "id": "pnd2T9GoYQg1"
      },
      "source": [
        "# Pruebas"
      ]
    },
    {
      "cell_type": "markdown",
      "metadata": {
        "id": "QbLsIfv4Eg_0"
      },
      "source": [
        "## Prueba imagen individual"
      ]
    },
    {
      "cell_type": "code",
      "metadata": {
        "colab": {
          "base_uri": "https://localhost:8080/",
          "height": 335
        },
        "id": "MEzbM6CAce-V",
        "outputId": "6cce4c91-9ead-4023-c6a9-97349fa8ff60"
      },
      "source": [
        "from PIL import Image\n",
        "import matplotlib.pyplot as plt\n",
        "\n",
        "image_num = 1795\n",
        "\n",
        "IMM = img_test[image_num][0].to(\"cpu\")\n",
        "print(IMM.size())\n",
        "plt.imshow(IMM,cmap='gray')\n",
        "plt.show()\n",
        "\n",
        "Out_Channels = 2\n",
        "Dropout = 0.01\n",
        "Convolution_Layer = [32, 0, 16, 16, 0, 16, 16, 0, 16, 16, 0, 16, 16, 0, 16, 16, 0]\n",
        "Lineal_Layer = [16, 16]\n",
        "\n",
        "model = VGG(\n",
        "    Convolution_Layer,\n",
        "    Lineal_Layer,\n",
        "    Dropout,\n",
        "    Out_Channels\n",
        "    )\n",
        "\n",
        "model.load_state_dict(torch.load(address + \"/\" +'0.9936655405405406% Drop[0.01] CL[32 0 16 16 0 16 16 0 16 16 0 16 16 0 16 16 0 ]LL[16 16 ].pth'))\n",
        "model.eval()\n",
        "model.to(device)\n",
        "\n",
        "\n",
        "image = img_test[image_num].float().div_(255).unsqueeze_(1).to(device)\n",
        "\n",
        "print(model.forward(image))\n",
        "print(trg_test[image_num])\n"
      ],
      "execution_count": 51,
      "outputs": [
        {
          "output_type": "stream",
          "text": [
            "torch.Size([128, 128])\n"
          ],
          "name": "stdout"
        },
        {
          "output_type": "display_data",
          "data": {
            "image/png": "[encoded data removed]",
            "text/plain": [
              "<Figure size 432x288 with 1 Axes>"
            ]
          },
          "metadata": {
            "tags": [],
            "needs_background": "light"
          }
        },
        {
          "output_type": "stream",
          "text": [
            "tensor([[-2.3842e-07, -1.5064e+01]], device='cuda:0',\n",
            "       grad_fn=<LogSoftmaxBackward>)\n",
            "tensor(0., device='cuda:0')\n"
          ],
          "name": "stdout"
        }
      ]
    },
    {
      "cell_type": "markdown",
      "metadata": {
        "id": "AuT3I51JEoyj"
      },
      "source": [
        "# Pizarra"
      ]
    },
    {
      "cell_type": "code",
      "metadata": {
        "id": "O6uAfuI1lBRC"
      },
      "source": [
        "import torch\n",
        "import copy\n",
        "import torch.nn as nn\n",
        "from collections import OrderedDict\n",
        "\n",
        "\n",
        "# 128 VGG,B 1,D 0.001000,CL(64 0 16 16 0 16 16 0 16 16 0 16 16 0 ), LL(32 16 )0.994930%.pt\n",
        "# pesa 203kb\n",
        "# USO con imagenes de 128x128\n",
        "\n",
        "DROP = 0.01\n",
        "\n",
        "CV_BN_RELU0 = nn.Sequential(OrderedDict([\n",
        "          ('0', nn.Conv2d(1,64,3,1,1,1,1,0)),\n",
        "          ('1', nn.BatchNorm2d(64)),\n",
        "          ('2', nn.ReLU()),\n",
        "          ('3', nn.Dropout(DROP))\n",
        "        ]))\n",
        "\n",
        "CV_BN_RELU1 = nn.Sequential(OrderedDict([\n",
        "          ('0', nn.Conv2d(64,16,3,1,1,1,1,0)),\n",
        "          ('1', nn.Dropout(DROP)),\n",
        "          ('2', nn.BatchNorm2d(16)),\n",
        "          ('3', nn.ReLU())\n",
        "        ]))\n",
        "\n",
        "CV_BN_RELU2 = nn.Sequential(OrderedDict([\n",
        "          ('0', nn.Conv2d(16,16,3,1,1,1,1,0)),\n",
        "          ('1', nn.Dropout(DROP)),\n",
        "          ('2', nn.BatchNorm2d(16)),\n",
        "          ('3', nn.ReLU())\n",
        "        ]))\n",
        "\n",
        "CV_BN_RELU3 = nn.Sequential(OrderedDict([\n",
        "          ('0', nn.Conv2d(16,16,3,1,1,1,1,0)),\n",
        "          ('1', nn.Dropout(DROP)),\n",
        "          ('2', nn.BatchNorm2d(16)),\n",
        "          ('3', nn.ReLU())\n",
        "        ]))\n",
        "\n",
        "CV_BN_RELU4 = nn.Sequential(OrderedDict([\n",
        "          ('0', nn.Conv2d(16,16,3,1,1,1,1,0)),\n",
        "          ('1', nn.Dropout(DROP)),\n",
        "          ('2', nn.BatchNorm2d(16)),\n",
        "          ('3', nn.ReLU())\n",
        "        ]))\n",
        "\n",
        "CV_BN_RELU5 = nn.Sequential(OrderedDict([\n",
        "          ('0', nn.Conv2d(16,16,3,1,1,1,1,0)),\n",
        "          ('1', nn.Dropout(DROP)),\n",
        "          ('2', nn.BatchNorm2d(16)),\n",
        "          ('3', nn.ReLU())\n",
        "        ]))\n",
        "\n",
        "CV_BN_RELU6 = nn.Sequential(OrderedDict([\n",
        "          ('0', nn.Conv2d(16,16,3,1,1,1,1,0)),\n",
        "          ('1', nn.Dropout(DROP)),\n",
        "          ('2', nn.BatchNorm2d(16)),\n",
        "          ('3', nn.ReLU())\n",
        "        ]))\n",
        "\n",
        "CV_BN_RELU7 = nn.Sequential(OrderedDict([\n",
        "          ('0', nn.Conv2d(16,16,3,1,1,1,1,0)),\n",
        "          ('1', nn.Dropout(DROP)),\n",
        "          ('2', nn.BatchNorm2d(16)),\n",
        "          ('3', nn.ReLU())\n",
        "        ]))\n",
        "\n",
        "CV_BN_RELU8 = nn.Sequential(OrderedDict([\n",
        "          ('0', nn.Conv2d(16,16,3,1,1,1,1,0)),\n",
        "          ('1', nn.Dropout(DROP)),\n",
        "          ('2', nn.BatchNorm2d(16)),\n",
        "          ('3', nn.ReLU())\n",
        "        ]))\n",
        "\n",
        "MAXPOOL0 = nn.AvgPool2d(2, 2)\n",
        "MAXPOOL1 = nn.AvgPool2d(2, 2)\n",
        "MAXPOOL2 = nn.AvgPool2d(2, 2)\n",
        "MAXPOOL3 = nn.AvgPool2d(2, 2)\n",
        "MAXPOOL4 = nn.AvgPool2d(2, 2)\n",
        "\n",
        "FEATURES = nn.Sequential()\n",
        "\n",
        "FEATURES.add_module('0', CV_BN_RELU0)\n",
        "FEATURES.add_module('1', MAXPOOL0)\n",
        "FEATURES.add_module('2', CV_BN_RELU1)\n",
        "FEATURES.add_module('3', CV_BN_RELU2)\n",
        "FEATURES.add_module('4', MAXPOOL1)\n",
        "FEATURES.add_module('5', CV_BN_RELU3)\n",
        "FEATURES.add_module('6', CV_BN_RELU4)\n",
        "FEATURES.add_module('7', MAXPOOL2)\n",
        "FEATURES.add_module('8', CV_BN_RELU5)\n",
        "FEATURES.add_module('9', CV_BN_RELU6)\n",
        "FEATURES.add_module('10',MAXPOOL3)\n",
        "FEATURES.add_module('11',CV_BN_RELU7)\n",
        "FEATURES.add_module('12',CV_BN_RELU8)\n",
        "FEATURES.add_module('13',MAXPOOL4)\n",
        "\n",
        "CLASSIFIER = nn.Sequential(OrderedDict([\n",
        "          ('0', nn.Flatten()),\n",
        "          ('1', nn.Linear(256,32)),\n",
        "          ('2', nn.ReLU()),\n",
        "          ('3', nn.Linear(32,16)),\n",
        "          ('4', nn.ReLU()),\n",
        "          ('5', nn.Linear(16,2)), # 2 = N_CLASES\n",
        "        ]))\n",
        "\n",
        "model =  nn.Sequential(OrderedDict([\n",
        "            ('FEATURES', FEATURES),\n",
        "            ('CLASSIFIER', CLASSIFIER),\n",
        "            ('SOFTMAX', nn.LogSoftmax(1))\n",
        "            ]))"
      ],
      "execution_count": null,
      "outputs": []
    }
  ]
}