{
  "nbformat": 4,
  "nbformat_minor": 0,
  "metadata": {
    "colab": {
      "name": "Full VGG.ipynb",
      "provenance": [],
      "collapsed_sections": [
        "T_o2Z0j29n97"
      ],
      "toc_visible": true,
      "include_colab_link": true
    },
    "kernelspec": {
      "name": "python3",
      "display_name": "Python 3"
    },
    "language_info": {
      "name": "python"
    },
    "accelerator": "GPU"
  },
  "cells": [
    {
      "cell_type": "markdown",
      "metadata": {
        "id": "view-in-github",
        "colab_type": "text"
      },
      "source": [
        "<a href=\"https://colab.research.google.com/github/Martinsoyyo/Sellos/blob/master/Full_VGG.ipynb\" target=\"_parent\"><img src=\"https://colab.research.google.com/assets/colab-badge.svg\" alt=\"Open In Colab\"/></a>"
      ]
    },
    {
      "cell_type": "markdown",
      "metadata": {
        "id": "wlhCeW6ehxEY"
      },
      "source": [
        "# Condiciones iniciales"
      ]
    },
    {
      "cell_type": "code",
      "metadata": {
        "id": "vUWM3GRa4AB5"
      },
      "source": [
        "address          = '/content/drive/MyDrive/Colada_40mm_python'\n",
        "image_size       = 128\n",
        "train_percentage = 0.75\n",
        "epochs           = 100\n",
        "batch_size       = 128\n",
        "use_gpu          = True\n",
        "\n",
        "import torch\n",
        "device = torch.device(\"cuda\" if use_gpu else \"cpu\")"
      ],
      "execution_count": 48,
      "outputs": []
    },
    {
      "cell_type": "markdown",
      "metadata": {
        "id": "DtPw9wyjC_A7"
      },
      "source": [
        "#Dataset Builder"
      ]
    },
    {
      "cell_type": "markdown",
      "metadata": {
        "id": "T_o2Z0j29n97"
      },
      "source": [
        "## Funciones Auxiliares"
      ]
    },
    {
      "cell_type": "code",
      "metadata": {
        "id": "lo95IQy-37Ns"
      },
      "source": [
        "def GetDirectoryStructure(dirName):\n",
        "    listOfFile = os.listdir(dirName)\n",
        "    alldir = list()\n",
        "\n",
        "    for entry in listOfFile:\n",
        "        fullPath = os.path.join(dirName, entry)\n",
        "       \n",
        "        if os.path.isdir(fullPath):\n",
        "            alldir.append(fullPath)\n",
        "    return alldir"
      ],
      "execution_count": 49,
      "outputs": []
    },
    {
      "cell_type": "code",
      "metadata": {
        "id": "JMwzgIY663bk"
      },
      "source": [
        "def GetFilesFromDirectory(dirName):\n",
        "    listOfFile = os.listdir(dirName)\n",
        "    allFiles = list()\n",
        "\n",
        "    for entry in listOfFile:\n",
        "        fullPath = os.path.join(dirName, entry)\n",
        "\n",
        "        if not os.path.isdir(fullPath):\n",
        "            allFiles.append(fullPath)\n",
        "                \n",
        "    return allFiles"
      ],
      "execution_count": 50,
      "outputs": []
    },
    {
      "cell_type": "markdown",
      "metadata": {
        "id": "9RfF2Peo7Wl9"
      },
      "source": [
        "## Levanta todos los nombres de archivos de imagenes."
      ]
    },
    {
      "cell_type": "code",
      "metadata": {
        "colab": {
          "base_uri": "https://localhost:8080/"
        },
        "id": "64vO0Mzh9u6Y",
        "outputId": "321e6a4b-f01b-4f55-97ea-34c15548bd65"
      },
      "source": [
        "from google.colab import drive\n",
        "drive.mount('/content/drive')"
      ],
      "execution_count": 2,
      "outputs": [
        {
          "output_type": "stream",
          "text": [
            "Mounted at /content/drive\n"
          ],
          "name": "stdout"
        }
      ]
    },
    {
      "cell_type": "code",
      "metadata": {
        "colab": {
          "base_uri": "https://localhost:8080/"
        },
        "id": "tN_AAeX24HKu",
        "outputId": "6a7fa2bf-d43c-4c4a-9a6d-363597935602"
      },
      "source": [
        "import os\n",
        "\n",
        "data_csv = []\n",
        "\n",
        "dirs = GetDirectoryStructure(address)\n",
        "_dir_count = 0\n",
        "for _dir in dirs:\n",
        "  files = GetFilesFromDirectory(_dir)\n",
        "  for _files in files:\n",
        "    fullPath = os.path.join(_dir, _files)\n",
        "    data_csv.append( [fullPath , _dir_count-1] );\n",
        "  _dir_count+= 1\n",
        "\n",
        "print(len(data_csv))"
      ],
      "execution_count": 51,
      "outputs": [
        {
          "output_type": "stream",
          "text": [
            "9472\n"
          ],
          "name": "stdout"
        }
      ]
    },
    {
      "cell_type": "markdown",
      "metadata": {
        "id": "3mOeFKr3ziua"
      },
      "source": [
        "## Mezcla el database, antes de crear los tensores."
      ]
    },
    {
      "cell_type": "code",
      "metadata": {
        "id": "EB1FXIfczy1A"
      },
      "source": [
        "#import random\n",
        "#random.shuffle(data_csv)\n",
        "#data_csv"
      ],
      "execution_count": null,
      "outputs": []
    },
    {
      "cell_type": "markdown",
      "metadata": {
        "id": "5P-Hy8jHzudd"
      },
      "source": [
        "## Crea Tensores [_images , _target ]"
      ]
    },
    {
      "cell_type": "code",
      "metadata": {
        "id": "Wh1diQDoB0oJ"
      },
      "source": [
        "import cv2\n",
        "import cv2\n",
        "import torch\n",
        "\n",
        "_images = []\n",
        "_target = []\n",
        "\n",
        "for img_address, target_value in data_csv:\n",
        "  print(\"Processing..\",img_address)\n",
        "  img = cv2.imread(img_address)\n",
        "  img = cv2.cvtColor(img, cv2.COLOR_BGR2GRAY)\n",
        "  _images.append(torch.from_numpy(img))\n",
        "  _target.append(target_value)\n"
      ],
      "execution_count": null,
      "outputs": []
    },
    {
      "cell_type": "code",
      "metadata": {
        "colab": {
          "base_uri": "https://localhost:8080/"
        },
        "id": "cv4YKBzRM3IT",
        "outputId": "53007da2-95ec-4cea-f611-c158a0c4302b"
      },
      "source": [
        "_images = torch.stack(_images)\n",
        "_target = torch.Tensor(_target)\n",
        "\n",
        "print(_images.size())\n",
        "print(_target.size())\n",
        "\n",
        "IDX = torch.randperm(_images.size()[0])\n",
        "_images = _images.index_select(0, IDX)\n",
        "_target = _target.index_select(0, IDX)\n",
        "\n",
        "print(_images.size())\n",
        "print(_target.size())"
      ],
      "execution_count": 59,
      "outputs": [
        {
          "output_type": "stream",
          "text": [
            "torch.Size([9472, 128, 128])\n",
            "torch.Size([9472])\n",
            "torch.Size([9472, 128, 128])\n",
            "torch.Size([9472])\n"
          ],
          "name": "stdout"
        }
      ]
    },
    {
      "cell_type": "markdown",
      "metadata": {
        "id": "WqCLkbfdz_Mf"
      },
      "source": [
        "## Redimensiona y graba a disco."
      ]
    },
    {
      "cell_type": "code",
      "metadata": {
        "id": "1q1Envf6GQts",
        "colab": {
          "base_uri": "https://localhost:8080/"
        },
        "outputId": "dd37d6df-24ca-49eb-8bba-03fabcf5f1b7"
      },
      "source": [
        "_images.unsqueeze_(1)\n",
        "print(_images.size())\n",
        "torch.save(_images, address+'/'+ str(image_size) +'x'+ str(image_size) + '_IMAGES.tensor')\n",
        "\n",
        "print(_target.size())\n",
        "torch.save(_target, address+'/'+ str(image_size) +'x'+ str(image_size) + '_TARGET.tensor')\n"
      ],
      "execution_count": 60,
      "outputs": [
        {
          "output_type": "stream",
          "text": [
            "torch.Size([9472, 1, 128, 128])\n",
            "torch.Size([9472])\n"
          ],
          "name": "stdout"
        }
      ]
    },
    {
      "cell_type": "markdown",
      "metadata": {
        "id": "6HCDJZ4v9Ms8"
      },
      "source": [
        "#Definicion de la Red"
      ]
    },
    {
      "cell_type": "code",
      "metadata": {
        "id": "AEug7DXDN_YS"
      },
      "source": [
        "import torch\n",
        "import copy\n",
        "import torch.nn as nn\n",
        "from collections import OrderedDict\n",
        "\n",
        "def VGG(Convolution_Layer, Lineal_Layer,Drop,Out_Channels ):\n",
        "  modules = []\n",
        "\n",
        "  i = 0\n",
        "  channels = 1\n",
        "  num_of_maxpools = 0\n",
        "  for _params in Convolution_Layer:\n",
        "    if _params == 0:\n",
        "      modules.append(nn.AvgPool2d(2, 2))\n",
        "      num_of_maxpools +=1\n",
        "    else:\n",
        "      modules.append(nn.Conv2d(channels,_params,3,1,1))\n",
        "      modules.append(nn.BatchNorm2d(_params))\n",
        "      modules.append(nn.ReLU())\n",
        "      modules.append(nn.Dropout(Drop))\n",
        "      channels = _params\n",
        "\n",
        "  modules.append(nn.Flatten())\n",
        "\n",
        "\n",
        "  aux = int(image_size / pow(2, num_of_maxpools))\n",
        "  channels *= pow(aux,2)\n",
        "\n",
        "  for _params in Lineal_Layer:\n",
        "    modules.append( nn.Linear(channels,_params))\n",
        "    modules.append(nn.ReLU());\n",
        "    channels = _params\n",
        "\n",
        "  modules.append(nn.Linear(channels,Out_Channels))\n",
        "  modules.append(nn.LogSoftmax(1))\n",
        "\n",
        "  model = nn.Sequential(*modules)\n",
        "  return model"
      ],
      "execution_count": 61,
      "outputs": []
    },
    {
      "cell_type": "code",
      "metadata": {
        "id": "2f9UiTc-9OQt"
      },
      "source": [
        "import torch\n",
        "import copy\n",
        "import torch.nn as nn\n",
        "from collections import OrderedDict\n",
        "\n",
        "\n",
        "# 128 VGG,B 1,D 0.001000,CL(64 0 16 16 0 16 16 0 16 16 0 16 16 0 ), LL(32 16 )0.994930%.pt\n",
        "# pesa 203kb\n",
        "# USO con imagenes de 128x128\n",
        "\n",
        "DROP = 0.01\n",
        "\n",
        "CV_BN_RELU0 = nn.Sequential(OrderedDict([\n",
        "          ('0', nn.Conv2d(1,64,3,1,1,1,1,0)),\n",
        "          ('1', nn.BatchNorm2d(64)),\n",
        "          ('2', nn.ReLU()),\n",
        "          ('3', nn.Dropout(DROP))\n",
        "        ]))\n",
        "\n",
        "CV_BN_RELU1 = nn.Sequential(OrderedDict([\n",
        "          ('0', nn.Conv2d(64,16,3,1,1,1,1,0)),\n",
        "          ('1', nn.Dropout(DROP)),\n",
        "          ('2', nn.BatchNorm2d(16)),\n",
        "          ('3', nn.ReLU())\n",
        "        ]))\n",
        "\n",
        "CV_BN_RELU2 = nn.Sequential(OrderedDict([\n",
        "          ('0', nn.Conv2d(16,16,3,1,1,1,1,0)),\n",
        "          ('1', nn.Dropout(DROP)),\n",
        "          ('2', nn.BatchNorm2d(16)),\n",
        "          ('3', nn.ReLU())\n",
        "        ]))\n",
        "\n",
        "CV_BN_RELU3 = nn.Sequential(OrderedDict([\n",
        "          ('0', nn.Conv2d(16,16,3,1,1,1,1,0)),\n",
        "          ('1', nn.Dropout(DROP)),\n",
        "          ('2', nn.BatchNorm2d(16)),\n",
        "          ('3', nn.ReLU())\n",
        "        ]))\n",
        "\n",
        "CV_BN_RELU4 = nn.Sequential(OrderedDict([\n",
        "          ('0', nn.Conv2d(16,16,3,1,1,1,1,0)),\n",
        "          ('1', nn.Dropout(DROP)),\n",
        "          ('2', nn.BatchNorm2d(16)),\n",
        "          ('3', nn.ReLU())\n",
        "        ]))\n",
        "\n",
        "CV_BN_RELU5 = nn.Sequential(OrderedDict([\n",
        "          ('0', nn.Conv2d(16,16,3,1,1,1,1,0)),\n",
        "          ('1', nn.Dropout(DROP)),\n",
        "          ('2', nn.BatchNorm2d(16)),\n",
        "          ('3', nn.ReLU())\n",
        "        ]))\n",
        "\n",
        "CV_BN_RELU6 = nn.Sequential(OrderedDict([\n",
        "          ('0', nn.Conv2d(16,16,3,1,1,1,1,0)),\n",
        "          ('1', nn.Dropout(DROP)),\n",
        "          ('2', nn.BatchNorm2d(16)),\n",
        "          ('3', nn.ReLU())\n",
        "        ]))\n",
        "\n",
        "CV_BN_RELU7 = nn.Sequential(OrderedDict([\n",
        "          ('0', nn.Conv2d(16,16,3,1,1,1,1,0)),\n",
        "          ('1', nn.Dropout(DROP)),\n",
        "          ('2', nn.BatchNorm2d(16)),\n",
        "          ('3', nn.ReLU())\n",
        "        ]))\n",
        "\n",
        "CV_BN_RELU8 = nn.Sequential(OrderedDict([\n",
        "          ('0', nn.Conv2d(16,16,3,1,1,1,1,0)),\n",
        "          ('1', nn.Dropout(DROP)),\n",
        "          ('2', nn.BatchNorm2d(16)),\n",
        "          ('3', nn.ReLU())\n",
        "        ]))\n",
        "\n",
        "MAXPOOL0 = nn.AvgPool2d(2, 2)\n",
        "MAXPOOL1 = nn.AvgPool2d(2, 2)\n",
        "MAXPOOL2 = nn.AvgPool2d(2, 2)\n",
        "MAXPOOL3 = nn.AvgPool2d(2, 2)\n",
        "MAXPOOL4 = nn.AvgPool2d(2, 2)\n",
        "\n",
        "FEATURES = nn.Sequential()\n",
        "\n",
        "FEATURES.add_module('0', CV_BN_RELU0)\n",
        "FEATURES.add_module('1', MAXPOOL0)\n",
        "FEATURES.add_module('2', CV_BN_RELU1)\n",
        "FEATURES.add_module('3', CV_BN_RELU2)\n",
        "FEATURES.add_module('4', MAXPOOL1)\n",
        "FEATURES.add_module('5', CV_BN_RELU3)\n",
        "FEATURES.add_module('6', CV_BN_RELU4)\n",
        "FEATURES.add_module('7', MAXPOOL2)\n",
        "FEATURES.add_module('8', CV_BN_RELU5)\n",
        "FEATURES.add_module('9', CV_BN_RELU6)\n",
        "FEATURES.add_module('10',MAXPOOL3)\n",
        "FEATURES.add_module('11',CV_BN_RELU7)\n",
        "FEATURES.add_module('12',CV_BN_RELU8)\n",
        "FEATURES.add_module('13',MAXPOOL4)\n",
        "\n",
        "CLASSIFIER = nn.Sequential(OrderedDict([\n",
        "          ('0', nn.Flatten()),\n",
        "          ('1', nn.Linear(256,32)),\n",
        "          ('2', nn.ReLU()),\n",
        "          ('3', nn.Linear(32,16)),\n",
        "          ('4', nn.ReLU()),\n",
        "          ('5', nn.Linear(16,2)), # 2 = N_CLASES\n",
        "        ]))\n",
        "\n",
        "model =  nn.Sequential(OrderedDict([\n",
        "            ('FEATURES', FEATURES),\n",
        "            ('CLASSIFIER', CLASSIFIER),\n",
        "            ('SOFTMAX', nn.LogSoftmax(1))\n",
        "            ]))"
      ],
      "execution_count": null,
      "outputs": []
    },
    {
      "cell_type": "markdown",
      "metadata": {
        "id": "PSncRAoGxgfu"
      },
      "source": [
        "#Entrenamiento"
      ]
    },
    {
      "cell_type": "markdown",
      "metadata": {
        "id": "WJkGLuL-0GA3"
      },
      "source": [
        "\n",
        "## Carga tensores desde el Drive."
      ]
    },
    {
      "cell_type": "code",
      "metadata": {
        "id": "aLJV-sxKxBUR",
        "colab": {
          "base_uri": "https://localhost:8080/"
        },
        "outputId": "2d681fbd-3f27-486d-85fc-d4ccc89ca0d1"
      },
      "source": [
        "img = torch.load(address+'/'+ str(image_size) +'x'+ str(image_size) + '_IMAGES.tensor')\n",
        "trg = torch.load(address+'/'+ str(image_size) +'x'+ str(image_size) + '_TARGET.tensor')\n",
        "\n",
        "print(img.size())\n",
        "print(trg.size())"
      ],
      "execution_count": 63,
      "outputs": [
        {
          "output_type": "stream",
          "text": [
            "torch.Size([9472, 1, 128, 128])\n",
            "torch.Size([9472])\n"
          ],
          "name": "stdout"
        }
      ]
    },
    {
      "cell_type": "markdown",
      "metadata": {
        "id": "Z1s7E9Dx0N2K"
      },
      "source": [
        "## Separa tensores de Trainning y Testeo."
      ]
    },
    {
      "cell_type": "code",
      "metadata": {
        "colab": {
          "base_uri": "https://localhost:8080/"
        },
        "id": "_5m-BqFZ0Nal",
        "outputId": "cbcb750f-7759-4432-d187-0c2b5a1b89d3"
      },
      "source": [
        "length = img.size()[0]\n",
        "\n",
        "img_train = img[0:int(length*train_percentage)].to(device)\n",
        "trg_train = trg[0:int(length*train_percentage)].to(device)\n",
        "\n",
        "img_test = img[int(length*train_percentage):].to(device)\n",
        "trg_test = trg[int(length*train_percentage):].to(device)\n",
        "\n",
        "print(img.size())\n",
        "print(\"Train\",img_train.size())\n",
        "print(\"Test\",img_test.size())"
      ],
      "execution_count": 64,
      "outputs": [
        {
          "output_type": "stream",
          "text": [
            "torch.Size([9472, 1, 128, 128])\n",
            "Train torch.Size([7104, 1, 128, 128])\n",
            "Test torch.Size([2368, 1, 128, 128])\n"
          ],
          "name": "stdout"
        }
      ]
    },
    {
      "cell_type": "markdown",
      "metadata": {
        "id": "TQFQP3aMH1Fs"
      },
      "source": [
        "#Entrenamiento"
      ]
    },
    {
      "cell_type": "code",
      "metadata": {
        "id": "iNIZXsZR_5Pl"
      },
      "source": [
        "def Train(epoch):\n",
        "  model.train()\n",
        "\n",
        "  IMAGE  = img_train.split(batch_size);\n",
        "  TARGET = trg_train.split(batch_size);\n",
        "  N = int(img_train.size()[0]/batch_size)\n",
        "\n",
        "  for idx in range(N):\n",
        "    output = model.forward(IMAGE[idx].float().div_(255));\n",
        "    loss   = criterion(output, TARGET[idx].long())\n",
        "\n",
        "    optimizer.zero_grad();\n",
        "    loss.backward()\n",
        "    optimizer.step()\n",
        "\n",
        "    print(\"\\r Epoch:\",str(epoch), \"[\",idx * batch_size, \",\", img_train.size()[0],\" ] Loss:\",loss.item(), end=\" \") "
      ],
      "execution_count": 65,
      "outputs": []
    },
    {
      "cell_type": "code",
      "metadata": {
        "id": "h0wptZOPNyK6"
      },
      "source": [
        "def Test(IMG, TRG):\n",
        "  model.eval()\n",
        "  \n",
        "  with torch.no_grad():\n",
        "    IMAGE  = IMG.split(batch_size);\n",
        "    TARGET = TRG.split(batch_size);\n",
        "    N = int(IMG.size()[0]/batch_size)\n",
        "\n",
        "    correct = 0\n",
        "    for idx in range(N):\n",
        "      output = model.forward(IMAGE[idx].float().div_(255));\n",
        "      predicted = output.data.max(1)[1].long()\n",
        "      correct += int( (predicted == TARGET[idx].long() ).sum().item())\n",
        "\n",
        "  return (float(correct) / IMG.size()[0]);"
      ],
      "execution_count": 66,
      "outputs": []
    },
    {
      "cell_type": "code",
      "metadata": {
        "id": "r4N-9I839_YB"
      },
      "source": [
        "def initialize_weights(m):\n",
        "  if isinstance(m, nn.Conv2d):\n",
        "      nn.init.xavier_uniform_(m.weight)\n",
        "     # nn.init.kaiming_uniform_(m.weight.data,nonlinearity='relu')\n",
        "      if m.bias is not None:\n",
        "          nn.init.constant_(m.bias.data, 0)\n",
        "  elif isinstance(m, nn.BatchNorm2d):\n",
        "      nn.init.constant_(m.weight.data, 1)\n",
        "      nn.init.constant_(m.bias.data, 0)\n",
        "  elif isinstance(m, nn.Linear):\n",
        "      nn.init.kaiming_uniform_(m.weight.data)\n",
        "      nn.init.constant_(m.bias.data, 0)"
      ],
      "execution_count": 67,
      "outputs": []
    },
    {
      "cell_type": "code",
      "metadata": {
        "id": "pjyCrXt5XfR0"
      },
      "source": [
        "def Get_Names(Convolution_Layer, Lineal_Layer,Dropout,Eff ):\n",
        "\n",
        "  name = \"\" \n",
        "  name += str(Eff) + \"% \"\n",
        "  name += \"Drop[\" + str(Dropout) + \"] \"\n",
        "\n",
        "  name += \"CL[\" \n",
        "  for _params in Convolution_Layer:\n",
        "    name += str(_params) + \" \"\n",
        "\n",
        "  name += \"]LL[\" \n",
        "  for _params in Lineal_Layer:\n",
        "    name += str(_params) + \" \"\n",
        "  name += \"]\" \n",
        "\n",
        "  return name"
      ],
      "execution_count": 68,
      "outputs": []
    },
    {
      "cell_type": "code",
      "metadata": {
        "id": "SL9IN1uicDfR",
        "colab": {
          "base_uri": "https://localhost:8080/"
        },
        "outputId": "70cb3ab2-b38c-40f8-9bc2-ba1567b2207e"
      },
      "source": [
        "Epochs = 70  \n",
        "Out_Channels = 2\n",
        "Dropout = 0.01\n",
        "Convolution_Layer = [128, 0, 16, 16, 0, 16, 16, 0, 16, 16, 0, 16, 16, 0, 16, 16, 0]\n",
        "Lineal_Layer = [16, 16]\n",
        "\n",
        "model = VGG(\n",
        "    Convolution_Layer,\n",
        "    Lineal_Layer,\n",
        "    Dropout,\n",
        "    Out_Channels\n",
        "    )\n",
        "\n",
        "print(model)\n",
        "model.to(device)\n",
        "model.apply(initialize_weights)\n",
        "\n",
        "criterion = nn.NLLLoss()\n",
        "optimizer = torch.optim.Adam(model.parameters(), 0.001)\n",
        "#optimizer = torch.optim.SGD(model.parameters(), 0.01, 0.1);\n",
        "\n",
        "best_test_value = 0.0\n",
        "for idx in range(Epochs):\n",
        "  Train(idx)\n",
        "\n",
        "  test = Test(img_test,trg_test)\n",
        "  if( test > best_test_value):\n",
        "    best_test_value = test\n",
        "    torch.save(model.state_dict(), address + \"/best_model.pth\")\n",
        "    #torch.save(model, address + \"/best_model.pth\") \n",
        "  \n",
        "  print(\" Train set: Accuracy:\", Test(img_train,trg_train),\"% Test set: Accuracy:\", test,\"%\")\n",
        "\n",
        "print(\" best Accuracy: \",best_test_value)\n",
        "model = torch.load(address + \"/best_model.pth\")\n",
        "torch.save(model, address + \"/\" +  Get_Names(Convolution_Layer, Lineal_Layer,Dropout,best_test_value ) + \".pth\")"
      ],
      "execution_count": null,
      "outputs": [
        {
          "output_type": "stream",
          "text": [
            "Sequential(\n",
            "  (0): Conv2d(1, 128, kernel_size=(3, 3), stride=(1, 1), padding=(1, 1))\n",
            "  (1): BatchNorm2d(128, eps=1e-05, momentum=0.1, affine=True, track_running_stats=True)\n",
            "  (2): ReLU()\n",
            "  (3): Dropout(p=0.01, inplace=False)\n",
            "  (4): AvgPool2d(kernel_size=2, stride=2, padding=0)\n",
            "  (5): Conv2d(128, 16, kernel_size=(3, 3), stride=(1, 1), padding=(1, 1))\n",
            "  (6): BatchNorm2d(16, eps=1e-05, momentum=0.1, affine=True, track_running_stats=True)\n",
            "  (7): ReLU()\n",
            "  (8): Dropout(p=0.01, inplace=False)\n",
            "  (9): Conv2d(16, 16, kernel_size=(3, 3), stride=(1, 1), padding=(1, 1))\n",
            "  (10): BatchNorm2d(16, eps=1e-05, momentum=0.1, affine=True, track_running_stats=True)\n",
            "  (11): ReLU()\n",
            "  (12): Dropout(p=0.01, inplace=False)\n",
            "  (13): AvgPool2d(kernel_size=2, stride=2, padding=0)\n",
            "  (14): Conv2d(16, 16, kernel_size=(3, 3), stride=(1, 1), padding=(1, 1))\n",
            "  (15): BatchNorm2d(16, eps=1e-05, momentum=0.1, affine=True, track_running_stats=True)\n",
            "  (16): ReLU()\n",
            "  (17): Dropout(p=0.01, inplace=False)\n",
            "  (18): Conv2d(16, 16, kernel_size=(3, 3), stride=(1, 1), padding=(1, 1))\n",
            "  (19): BatchNorm2d(16, eps=1e-05, momentum=0.1, affine=True, track_running_stats=True)\n",
            "  (20): ReLU()\n",
            "  (21): Dropout(p=0.01, inplace=False)\n",
            "  (22): AvgPool2d(kernel_size=2, stride=2, padding=0)\n",
            "  (23): Conv2d(16, 16, kernel_size=(3, 3), stride=(1, 1), padding=(1, 1))\n",
            "  (24): BatchNorm2d(16, eps=1e-05, momentum=0.1, affine=True, track_running_stats=True)\n",
            "  (25): ReLU()\n",
            "  (26): Dropout(p=0.01, inplace=False)\n",
            "  (27): Conv2d(16, 16, kernel_size=(3, 3), stride=(1, 1), padding=(1, 1))\n",
            "  (28): BatchNorm2d(16, eps=1e-05, momentum=0.1, affine=True, track_running_stats=True)\n",
            "  (29): ReLU()\n",
            "  (30): Dropout(p=0.01, inplace=False)\n",
            "  (31): AvgPool2d(kernel_size=2, stride=2, padding=0)\n",
            "  (32): Conv2d(16, 16, kernel_size=(3, 3), stride=(1, 1), padding=(1, 1))\n",
            "  (33): BatchNorm2d(16, eps=1e-05, momentum=0.1, affine=True, track_running_stats=True)\n",
            "  (34): ReLU()\n",
            "  (35): Dropout(p=0.01, inplace=False)\n",
            "  (36): Conv2d(16, 16, kernel_size=(3, 3), stride=(1, 1), padding=(1, 1))\n",
            "  (37): BatchNorm2d(16, eps=1e-05, momentum=0.1, affine=True, track_running_stats=True)\n",
            "  (38): ReLU()\n",
            "  (39): Dropout(p=0.01, inplace=False)\n",
            "  (40): AvgPool2d(kernel_size=2, stride=2, padding=0)\n",
            "  (41): Conv2d(16, 16, kernel_size=(3, 3), stride=(1, 1), padding=(1, 1))\n",
            "  (42): BatchNorm2d(16, eps=1e-05, momentum=0.1, affine=True, track_running_stats=True)\n",
            "  (43): ReLU()\n",
            "  (44): Dropout(p=0.01, inplace=False)\n",
            "  (45): Conv2d(16, 16, kernel_size=(3, 3), stride=(1, 1), padding=(1, 1))\n",
            "  (46): BatchNorm2d(16, eps=1e-05, momentum=0.1, affine=True, track_running_stats=True)\n",
            "  (47): ReLU()\n",
            "  (48): Dropout(p=0.01, inplace=False)\n",
            "  (49): AvgPool2d(kernel_size=2, stride=2, padding=0)\n",
            "  (50): Flatten(start_dim=1, end_dim=-1)\n",
            "  (51): Linear(in_features=64, out_features=16, bias=True)\n",
            "  (52): ReLU()\n",
            "  (53): Linear(in_features=16, out_features=16, bias=True)\n",
            "  (54): ReLU()\n",
            "  (55): Linear(in_features=16, out_features=2, bias=True)\n",
            "  (56): LogSoftmax(dim=1)\n",
            ")\n",
            " Epoch: 0 [ 6912 , 7104  ] Loss: 0.17453761398792267  Train set: Accuracy: 0.5778434684684685 % Test set: Accuracy: 0.5671452702702703 %\n",
            " Epoch: 1 [ 6912 , 7104  ] Loss: 0.1734054535627365  Train set: Accuracy: 0.4131475225225225 % Test set: Accuracy: 0.4058277027027027 %\n",
            " Epoch: 2 [ 6912 , 7104  ] Loss: 0.15420225262641907  Train set: Accuracy: 0.4131475225225225 % Test set: Accuracy: 0.4058277027027027 %\n",
            " Epoch: 3 [ 6912 , 7104  ] Loss: 0.160618394613266  Train set: Accuracy: 0.7844876126126126 % Test set: Accuracy: 0.7744932432432432 %\n",
            " Epoch: 4 [ 6912 , 7104  ] Loss: 0.1475907862186432  Train set: Accuracy: 0.9413006756756757 % Test set: Accuracy: 0.9180743243243243 %\n",
            " Epoch: 5 [ 6912 , 7104  ] Loss: 0.14941789209842682  Train set: Accuracy: 0.5584177927927928 % Test set: Accuracy: 0.5494087837837838 %\n",
            " Epoch: 6 [ 6912 , 7104  ] Loss: 0.1459210366010666  Train set: Accuracy: 0.9355292792792793 % Test set: Accuracy: 0.9130067567567568 %\n",
            " Epoch: 7 [ 6912 , 7104  ] Loss: 0.14526955783367157  Train set: Accuracy: 0.8648648648648649 % Test set: Accuracy: 0.8488175675675675 %\n",
            " Epoch: 8 [ 6912 , 7104  ] Loss: 0.14270615577697754  Train set: Accuracy: 0.4131475225225225 % Test set: Accuracy: 0.4058277027027027 %\n"
          ],
          "name": "stdout"
        }
      ]
    },
    {
      "cell_type": "markdown",
      "metadata": {
        "id": "pnd2T9GoYQg1"
      },
      "source": [
        "# Pruebas"
      ]
    },
    {
      "cell_type": "code",
      "metadata": {
        "colab": {
          "base_uri": "https://localhost:8080/",
          "height": 335
        },
        "id": "MEzbM6CAce-V",
        "outputId": "2937afd4-e229-4bd5-b7ea-697c66dac46b"
      },
      "source": [
        "from PIL import Image\n",
        "import matplotlib.pyplot as plt\n",
        "\n",
        "image_num = 1795\n",
        "\n",
        "IMM = img_test[image_num][0].to(\"cpu\")\n",
        "print(IMM.size())\n",
        "plt.imshow(IMM,cmap='gray')\n",
        "plt.show()\n",
        "\n",
        "Out_Channels = 2\n",
        "Dropout = 0.01\n",
        "Convolution_Layer = [64, 0, 16, 16, 0, 16, 16, 0, 16, 16, 0, 16, 16, 0]\n",
        "Lineal_Layer = [32, 16]\n",
        "\n",
        "model = VGG(\n",
        "    Convolution_Layer,\n",
        "    Lineal_Layer,\n",
        "    Dropout,\n",
        "    Out_Channels\n",
        "    )\n",
        "\n",
        "model.load_state_dict(torch.load(address + \"/\" +'0.9666385135135135% Drop[0.001] CL[64 0 16 16 0 16 16 0 16 16 0 16 16 0 ]LL[32 16 ].pth'))\n",
        "model.eval()\n",
        "model.to(device)\n",
        "\n",
        "\n",
        "image = img_test[image_num].float().div_(255).unsqueeze_(1).to(device)\n",
        "\n",
        "print(model.forward(image))\n",
        "print(trg_test[image_num])\n"
      ],
      "execution_count": 87,
      "outputs": [
        {
          "output_type": "stream",
          "text": [
            "torch.Size([128, 128])\n"
          ],
          "name": "stdout"
        },
        {
          "output_type": "display_data",
          "data": {
            "image/png": "[encoded data removed]",
            "text/plain": [
              "<Figure size 432x288 with 1 Axes>"
            ]
          },
          "metadata": {
            "tags": [],
            "needs_background": "light"
          }
        },
        {
          "output_type": "stream",
          "text": [
            "tensor([[-1.3012e+01, -2.2650e-06]], device='cuda:0',\n",
            "       grad_fn=<LogSoftmaxBackward>)\n",
            "tensor(1., device='cuda:0')\n"
          ],
          "name": "stdout"
        }
      ]
    },
    {
      "cell_type": "code",
      "metadata": {
        "id": "O6uAfuI1lBRC"
      },
      "source": [
        ""
      ],
      "execution_count": null,
      "outputs": []
    }
  ]
}